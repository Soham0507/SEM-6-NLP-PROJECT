{
  "nbformat": 4,
  "nbformat_minor": 0,
  "metadata": {
    "colab": {
      "provenance": []
    },
    "kernelspec": {
      "name": "python3",
      "display_name": "Python 3"
    },
    "language_info": {
      "name": "python"
    }
  },
  "cells": [
    {
      "cell_type": "code",
      "source": [
        "!pip install --upgrade numpy gensim"
      ],
      "metadata": {
        "colab": {
          "base_uri": "https://localhost:8080/"
        },
        "collapsed": true,
        "id": "z9wXnVh5C9sb",
        "outputId": "54c09f4d-d261-4afd-9612-6d41444f5666"
      },
      "execution_count": null,
      "outputs": [
        {
          "output_type": "stream",
          "name": "stdout",
          "text": [
            "Requirement already satisfied: numpy in /usr/local/lib/python3.11/dist-packages (1.26.4)\n",
            "Collecting numpy\n",
            "  Using cached numpy-2.2.4-cp311-cp311-manylinux_2_17_x86_64.manylinux2014_x86_64.whl.metadata (62 kB)\n",
            "Requirement already satisfied: gensim in /usr/local/lib/python3.11/dist-packages (4.3.3)\n",
            "Requirement already satisfied: scipy<1.14.0,>=1.7.0 in /usr/local/lib/python3.11/dist-packages (from gensim) (1.13.1)\n",
            "Requirement already satisfied: smart-open>=1.8.1 in /usr/local/lib/python3.11/dist-packages (from gensim) (7.1.0)\n",
            "Requirement already satisfied: wrapt in /usr/local/lib/python3.11/dist-packages (from smart-open>=1.8.1->gensim) (1.17.2)\n"
          ]
        }
      ]
    },
    {
      "cell_type": "code",
      "source": [
        "!pip install fasttext"
      ],
      "metadata": {
        "colab": {
          "base_uri": "https://localhost:8080/"
        },
        "collapsed": true,
        "id": "XyVlqPPioqFb",
        "outputId": "e2b1524d-f830-41cc-9a17-78a1da545ad4"
      },
      "execution_count": null,
      "outputs": [
        {
          "output_type": "stream",
          "name": "stdout",
          "text": [
            "Requirement already satisfied: fasttext in /usr/local/lib/python3.11/dist-packages (0.9.3)\n",
            "Requirement already satisfied: pybind11>=2.2 in /usr/local/lib/python3.11/dist-packages (from fasttext) (2.13.6)\n",
            "Requirement already satisfied: setuptools>=0.7.0 in /usr/local/lib/python3.11/dist-packages (from fasttext) (75.1.0)\n",
            "Requirement already satisfied: numpy in /usr/local/lib/python3.11/dist-packages (from fasttext) (1.26.4)\n"
          ]
        }
      ]
    },
    {
      "cell_type": "code",
      "source": [
        "!pip install tensorflow"
      ],
      "metadata": {
        "colab": {
          "base_uri": "https://localhost:8080/"
        },
        "collapsed": true,
        "id": "OVwNYepWa3Fx",
        "outputId": "5a4e43b0-268e-42c0-9bae-b836dd281ac9"
      },
      "execution_count": null,
      "outputs": [
        {
          "output_type": "stream",
          "name": "stdout",
          "text": [
            "Requirement already satisfied: tensorflow in /usr/local/lib/python3.11/dist-packages (2.18.0)\n",
            "Requirement already satisfied: absl-py>=1.0.0 in /usr/local/lib/python3.11/dist-packages (from tensorflow) (1.4.0)\n",
            "Requirement already satisfied: astunparse>=1.6.0 in /usr/local/lib/python3.11/dist-packages (from tensorflow) (1.6.3)\n",
            "Requirement already satisfied: flatbuffers>=24.3.25 in /usr/local/lib/python3.11/dist-packages (from tensorflow) (25.2.10)\n",
            "Requirement already satisfied: gast!=0.5.0,!=0.5.1,!=0.5.2,>=0.2.1 in /usr/local/lib/python3.11/dist-packages (from tensorflow) (0.6.0)\n",
            "Requirement already satisfied: google-pasta>=0.1.1 in /usr/local/lib/python3.11/dist-packages (from tensorflow) (0.2.0)\n",
            "Requirement already satisfied: libclang>=13.0.0 in /usr/local/lib/python3.11/dist-packages (from tensorflow) (18.1.1)\n",
            "Requirement already satisfied: opt-einsum>=2.3.2 in /usr/local/lib/python3.11/dist-packages (from tensorflow) (3.4.0)\n",
            "Requirement already satisfied: packaging in /usr/local/lib/python3.11/dist-packages (from tensorflow) (24.2)\n",
            "Requirement already satisfied: protobuf!=4.21.0,!=4.21.1,!=4.21.2,!=4.21.3,!=4.21.4,!=4.21.5,<6.0.0dev,>=3.20.3 in /usr/local/lib/python3.11/dist-packages (from tensorflow) (5.29.3)\n",
            "Requirement already satisfied: requests<3,>=2.21.0 in /usr/local/lib/python3.11/dist-packages (from tensorflow) (2.32.3)\n",
            "Requirement already satisfied: setuptools in /usr/local/lib/python3.11/dist-packages (from tensorflow) (75.1.0)\n",
            "Requirement already satisfied: six>=1.12.0 in /usr/local/lib/python3.11/dist-packages (from tensorflow) (1.17.0)\n",
            "Requirement already satisfied: termcolor>=1.1.0 in /usr/local/lib/python3.11/dist-packages (from tensorflow) (2.5.0)\n",
            "Requirement already satisfied: typing-extensions>=3.6.6 in /usr/local/lib/python3.11/dist-packages (from tensorflow) (4.12.2)\n",
            "Requirement already satisfied: wrapt>=1.11.0 in /usr/local/lib/python3.11/dist-packages (from tensorflow) (1.17.2)\n",
            "Requirement already satisfied: grpcio<2.0,>=1.24.3 in /usr/local/lib/python3.11/dist-packages (from tensorflow) (1.71.0)\n",
            "Requirement already satisfied: tensorboard<2.19,>=2.18 in /usr/local/lib/python3.11/dist-packages (from tensorflow) (2.18.0)\n",
            "Requirement already satisfied: keras>=3.5.0 in /usr/local/lib/python3.11/dist-packages (from tensorflow) (3.8.0)\n",
            "Requirement already satisfied: numpy<2.1.0,>=1.26.0 in /usr/local/lib/python3.11/dist-packages (from tensorflow) (1.26.4)\n",
            "Requirement already satisfied: h5py>=3.11.0 in /usr/local/lib/python3.11/dist-packages (from tensorflow) (3.13.0)\n",
            "Requirement already satisfied: ml-dtypes<0.5.0,>=0.4.0 in /usr/local/lib/python3.11/dist-packages (from tensorflow) (0.4.1)\n",
            "Requirement already satisfied: tensorflow-io-gcs-filesystem>=0.23.1 in /usr/local/lib/python3.11/dist-packages (from tensorflow) (0.37.1)\n",
            "Requirement already satisfied: wheel<1.0,>=0.23.0 in /usr/local/lib/python3.11/dist-packages (from astunparse>=1.6.0->tensorflow) (0.45.1)\n",
            "Requirement already satisfied: rich in /usr/local/lib/python3.11/dist-packages (from keras>=3.5.0->tensorflow) (13.9.4)\n",
            "Requirement already satisfied: namex in /usr/local/lib/python3.11/dist-packages (from keras>=3.5.0->tensorflow) (0.0.8)\n",
            "Requirement already satisfied: optree in /usr/local/lib/python3.11/dist-packages (from keras>=3.5.0->tensorflow) (0.14.1)\n",
            "Requirement already satisfied: charset-normalizer<4,>=2 in /usr/local/lib/python3.11/dist-packages (from requests<3,>=2.21.0->tensorflow) (3.4.1)\n",
            "Requirement already satisfied: idna<4,>=2.5 in /usr/local/lib/python3.11/dist-packages (from requests<3,>=2.21.0->tensorflow) (3.10)\n",
            "Requirement already satisfied: urllib3<3,>=1.21.1 in /usr/local/lib/python3.11/dist-packages (from requests<3,>=2.21.0->tensorflow) (2.3.0)\n",
            "Requirement already satisfied: certifi>=2017.4.17 in /usr/local/lib/python3.11/dist-packages (from requests<3,>=2.21.0->tensorflow) (2025.1.31)\n",
            "Requirement already satisfied: markdown>=2.6.8 in /usr/local/lib/python3.11/dist-packages (from tensorboard<2.19,>=2.18->tensorflow) (3.7)\n",
            "Requirement already satisfied: tensorboard-data-server<0.8.0,>=0.7.0 in /usr/local/lib/python3.11/dist-packages (from tensorboard<2.19,>=2.18->tensorflow) (0.7.2)\n",
            "Requirement already satisfied: werkzeug>=1.0.1 in /usr/local/lib/python3.11/dist-packages (from tensorboard<2.19,>=2.18->tensorflow) (3.1.3)\n",
            "Requirement already satisfied: MarkupSafe>=2.1.1 in /usr/local/lib/python3.11/dist-packages (from werkzeug>=1.0.1->tensorboard<2.19,>=2.18->tensorflow) (3.0.2)\n",
            "Requirement already satisfied: markdown-it-py>=2.2.0 in /usr/local/lib/python3.11/dist-packages (from rich->keras>=3.5.0->tensorflow) (3.0.0)\n",
            "Requirement already satisfied: pygments<3.0.0,>=2.13.0 in /usr/local/lib/python3.11/dist-packages (from rich->keras>=3.5.0->tensorflow) (2.18.0)\n",
            "Requirement already satisfied: mdurl~=0.1 in /usr/local/lib/python3.11/dist-packages (from markdown-it-py>=2.2.0->rich->keras>=3.5.0->tensorflow) (0.1.2)\n"
          ]
        }
      ]
    },
    {
      "cell_type": "code",
      "source": [
        "from google.colab import files\n",
        "import pandas as pd\n",
        "import numpy as np\n",
        "from sklearn.model_selection import train_test_split\n",
        "import matplotlib.pyplot as plt\n",
        "import seaborn as sns\n",
        "import re\n",
        "import nltk\n",
        "from nltk.corpus import stopwords\n",
        "from nltk.tokenize import word_tokenize\n",
        "from nltk.stem import PorterStemmer, WordNetLemmatizer\n",
        "from sklearn.feature_extraction.text import CountVectorizer, TfidfVectorizer\n",
        "from sklearn.metrics import accuracy_score, classification_report\n",
        "import joblib\n",
        "import fasttext\n",
        "import gensim\n",
        "from gensim.models import Word2Vec\n",
        "from sklearn.preprocessing import LabelEncoder\n",
        "from keras.models import Sequential\n",
        "from keras.models import load_model\n",
        "from tensorflow.keras.layers import Embedding, Conv1D, MaxPooling1D, Flatten, Dense, LSTM, Bidirectional, GRU\n",
        "from tensorflow.keras.optimizers import Adam"
      ],
      "metadata": {
        "id": "-ilZMxwg2ocX"
      },
      "execution_count": null,
      "outputs": []
    },
    {
      "cell_type": "code",
      "source": [
        "nltk.download('punkt')\n",
        "nltk.download('stopwords')\n",
        "nltk.download('wordnet')\n",
        "nltk.download('punkt_tab')"
      ],
      "metadata": {
        "id": "EDN4QJ364irI",
        "colab": {
          "base_uri": "https://localhost:8080/"
        },
        "outputId": "32e7adf1-83f3-4bf9-8742-7b33ac92de6f",
        "collapsed": true
      },
      "execution_count": null,
      "outputs": [
        {
          "output_type": "stream",
          "name": "stderr",
          "text": [
            "[nltk_data] Downloading package punkt to /root/nltk_data...\n",
            "[nltk_data]   Package punkt is already up-to-date!\n",
            "[nltk_data] Downloading package stopwords to /root/nltk_data...\n",
            "[nltk_data]   Package stopwords is already up-to-date!\n",
            "[nltk_data] Downloading package wordnet to /root/nltk_data...\n",
            "[nltk_data]   Package wordnet is already up-to-date!\n",
            "[nltk_data] Downloading package punkt_tab to /root/nltk_data...\n",
            "[nltk_data]   Package punkt_tab is already up-to-date!\n"
          ]
        },
        {
          "output_type": "execute_result",
          "data": {
            "text/plain": [
              "True"
            ]
          },
          "metadata": {},
          "execution_count": 7
        }
      ]
    },
    {
      "cell_type": "markdown",
      "source": [
        "### SECTION 1: Load data"
      ],
      "metadata": {
        "id": "WVgvJnI9BG2b"
      }
    },
    {
      "cell_type": "code",
      "execution_count": null,
      "metadata": {
        "colab": {
          "base_uri": "https://localhost:8080/",
          "height": 74
        },
        "id": "PKZ5tYvZAw0n",
        "outputId": "9b53edc1-34f2-46f8-a7c6-80b5fd5714f4"
      },
      "outputs": [
        {
          "output_type": "display_data",
          "data": {
            "text/plain": [
              "<IPython.core.display.HTML object>"
            ],
            "text/html": [
              "\n",
              "     <input type=\"file\" id=\"files-2dbcddd5-f9f2-4288-9058-05da423f93bb\" name=\"files[]\" multiple disabled\n",
              "        style=\"border:none\" />\n",
              "     <output id=\"result-2dbcddd5-f9f2-4288-9058-05da423f93bb\">\n",
              "      Upload widget is only available when the cell has been executed in the\n",
              "      current browser session. Please rerun this cell to enable.\n",
              "      </output>\n",
              "      <script>// Copyright 2017 Google LLC\n",
              "//\n",
              "// Licensed under the Apache License, Version 2.0 (the \"License\");\n",
              "// you may not use this file except in compliance with the License.\n",
              "// You may obtain a copy of the License at\n",
              "//\n",
              "//      http://www.apache.org/licenses/LICENSE-2.0\n",
              "//\n",
              "// Unless required by applicable law or agreed to in writing, software\n",
              "// distributed under the License is distributed on an \"AS IS\" BASIS,\n",
              "// WITHOUT WARRANTIES OR CONDITIONS OF ANY KIND, either express or implied.\n",
              "// See the License for the specific language governing permissions and\n",
              "// limitations under the License.\n",
              "\n",
              "/**\n",
              " * @fileoverview Helpers for google.colab Python module.\n",
              " */\n",
              "(function(scope) {\n",
              "function span(text, styleAttributes = {}) {\n",
              "  const element = document.createElement('span');\n",
              "  element.textContent = text;\n",
              "  for (const key of Object.keys(styleAttributes)) {\n",
              "    element.style[key] = styleAttributes[key];\n",
              "  }\n",
              "  return element;\n",
              "}\n",
              "\n",
              "// Max number of bytes which will be uploaded at a time.\n",
              "const MAX_PAYLOAD_SIZE = 100 * 1024;\n",
              "\n",
              "function _uploadFiles(inputId, outputId) {\n",
              "  const steps = uploadFilesStep(inputId, outputId);\n",
              "  const outputElement = document.getElementById(outputId);\n",
              "  // Cache steps on the outputElement to make it available for the next call\n",
              "  // to uploadFilesContinue from Python.\n",
              "  outputElement.steps = steps;\n",
              "\n",
              "  return _uploadFilesContinue(outputId);\n",
              "}\n",
              "\n",
              "// This is roughly an async generator (not supported in the browser yet),\n",
              "// where there are multiple asynchronous steps and the Python side is going\n",
              "// to poll for completion of each step.\n",
              "// This uses a Promise to block the python side on completion of each step,\n",
              "// then passes the result of the previous step as the input to the next step.\n",
              "function _uploadFilesContinue(outputId) {\n",
              "  const outputElement = document.getElementById(outputId);\n",
              "  const steps = outputElement.steps;\n",
              "\n",
              "  const next = steps.next(outputElement.lastPromiseValue);\n",
              "  return Promise.resolve(next.value.promise).then((value) => {\n",
              "    // Cache the last promise value to make it available to the next\n",
              "    // step of the generator.\n",
              "    outputElement.lastPromiseValue = value;\n",
              "    return next.value.response;\n",
              "  });\n",
              "}\n",
              "\n",
              "/**\n",
              " * Generator function which is called between each async step of the upload\n",
              " * process.\n",
              " * @param {string} inputId Element ID of the input file picker element.\n",
              " * @param {string} outputId Element ID of the output display.\n",
              " * @return {!Iterable<!Object>} Iterable of next steps.\n",
              " */\n",
              "function* uploadFilesStep(inputId, outputId) {\n",
              "  const inputElement = document.getElementById(inputId);\n",
              "  inputElement.disabled = false;\n",
              "\n",
              "  const outputElement = document.getElementById(outputId);\n",
              "  outputElement.innerHTML = '';\n",
              "\n",
              "  const pickedPromise = new Promise((resolve) => {\n",
              "    inputElement.addEventListener('change', (e) => {\n",
              "      resolve(e.target.files);\n",
              "    });\n",
              "  });\n",
              "\n",
              "  const cancel = document.createElement('button');\n",
              "  inputElement.parentElement.appendChild(cancel);\n",
              "  cancel.textContent = 'Cancel upload';\n",
              "  const cancelPromise = new Promise((resolve) => {\n",
              "    cancel.onclick = () => {\n",
              "      resolve(null);\n",
              "    };\n",
              "  });\n",
              "\n",
              "  // Wait for the user to pick the files.\n",
              "  const files = yield {\n",
              "    promise: Promise.race([pickedPromise, cancelPromise]),\n",
              "    response: {\n",
              "      action: 'starting',\n",
              "    }\n",
              "  };\n",
              "\n",
              "  cancel.remove();\n",
              "\n",
              "  // Disable the input element since further picks are not allowed.\n",
              "  inputElement.disabled = true;\n",
              "\n",
              "  if (!files) {\n",
              "    return {\n",
              "      response: {\n",
              "        action: 'complete',\n",
              "      }\n",
              "    };\n",
              "  }\n",
              "\n",
              "  for (const file of files) {\n",
              "    const li = document.createElement('li');\n",
              "    li.append(span(file.name, {fontWeight: 'bold'}));\n",
              "    li.append(span(\n",
              "        `(${file.type || 'n/a'}) - ${file.size} bytes, ` +\n",
              "        `last modified: ${\n",
              "            file.lastModifiedDate ? file.lastModifiedDate.toLocaleDateString() :\n",
              "                                    'n/a'} - `));\n",
              "    const percent = span('0% done');\n",
              "    li.appendChild(percent);\n",
              "\n",
              "    outputElement.appendChild(li);\n",
              "\n",
              "    const fileDataPromise = new Promise((resolve) => {\n",
              "      const reader = new FileReader();\n",
              "      reader.onload = (e) => {\n",
              "        resolve(e.target.result);\n",
              "      };\n",
              "      reader.readAsArrayBuffer(file);\n",
              "    });\n",
              "    // Wait for the data to be ready.\n",
              "    let fileData = yield {\n",
              "      promise: fileDataPromise,\n",
              "      response: {\n",
              "        action: 'continue',\n",
              "      }\n",
              "    };\n",
              "\n",
              "    // Use a chunked sending to avoid message size limits. See b/62115660.\n",
              "    let position = 0;\n",
              "    do {\n",
              "      const length = Math.min(fileData.byteLength - position, MAX_PAYLOAD_SIZE);\n",
              "      const chunk = new Uint8Array(fileData, position, length);\n",
              "      position += length;\n",
              "\n",
              "      const base64 = btoa(String.fromCharCode.apply(null, chunk));\n",
              "      yield {\n",
              "        response: {\n",
              "          action: 'append',\n",
              "          file: file.name,\n",
              "          data: base64,\n",
              "        },\n",
              "      };\n",
              "\n",
              "      let percentDone = fileData.byteLength === 0 ?\n",
              "          100 :\n",
              "          Math.round((position / fileData.byteLength) * 100);\n",
              "      percent.textContent = `${percentDone}% done`;\n",
              "\n",
              "    } while (position < fileData.byteLength);\n",
              "  }\n",
              "\n",
              "  // All done.\n",
              "  yield {\n",
              "    response: {\n",
              "      action: 'complete',\n",
              "    }\n",
              "  };\n",
              "}\n",
              "\n",
              "scope.google = scope.google || {};\n",
              "scope.google.colab = scope.google.colab || {};\n",
              "scope.google.colab._files = {\n",
              "  _uploadFiles,\n",
              "  _uploadFilesContinue,\n",
              "};\n",
              "})(self);\n",
              "</script> "
            ]
          },
          "metadata": {}
        },
        {
          "output_type": "stream",
          "name": "stdout",
          "text": [
            "Saving Extended_NLP_Project_dataset (2).csv to Extended_NLP_Project_dataset (2).csv\n"
          ]
        }
      ],
      "source": [
        "uploaded = files.upload()"
      ]
    },
    {
      "cell_type": "code",
      "source": [
        "data = pd.read_csv('Extended_NLP_Project_dataset (2).csv')"
      ],
      "metadata": {
        "id": "02mjIs5cTinH"
      },
      "execution_count": null,
      "outputs": []
    },
    {
      "cell_type": "code",
      "source": [
        "print(\"Dataset overview:\")\n",
        "print(data.info())"
      ],
      "metadata": {
        "colab": {
          "base_uri": "https://localhost:8080/"
        },
        "id": "QTWp5trKTW-W",
        "outputId": "89c8f5b5-2583-4c9e-804e-35832a0931f8"
      },
      "execution_count": null,
      "outputs": [
        {
          "output_type": "stream",
          "name": "stdout",
          "text": [
            "Dataset overview:\n",
            "<class 'pandas.core.frame.DataFrame'>\n",
            "RangeIndex: 1200 entries, 0 to 1199\n",
            "Data columns (total 2 columns):\n",
            " #   Column       Non-Null Count  Dtype \n",
            "---  ------       --------------  ----- \n",
            " 0   Disease      1200 non-null   object\n",
            " 1   Description  1200 non-null   object\n",
            "dtypes: object(2)\n",
            "memory usage: 18.9+ KB\n",
            "None\n"
          ]
        }
      ]
    },
    {
      "cell_type": "code",
      "source": [
        "print(data.tail(7))"
      ],
      "metadata": {
        "colab": {
          "base_uri": "https://localhost:8080/"
        },
        "id": "p-eAQd-fTn-t",
        "outputId": "59aa17c5-91be-4291-c3bd-74c1826f0893"
      },
      "execution_count": null,
      "outputs": [
        {
          "output_type": "stream",
          "name": "stdout",
          "text": [
            "                      Disease  \\\n",
            "1193  Urinary Tract Infection   \n",
            "1194  Urinary Tract Infection   \n",
            "1195  Urinary Tract Infection   \n",
            "1196  Urinary Tract Infection   \n",
            "1197  Urinary Tract Infection   \n",
            "1198  Urinary Tract Infection   \n",
            "1199  Urinary Tract Infection   \n",
            "\n",
            "                                            Description  \n",
            "1193  I have noticed persistent burning sensation wh...  \n",
            "1194  Lately, I have been experiencing symptoms such...  \n",
            "1195  Lately, I have been experiencing symptoms such...  \n",
            "1196  For the past few days, I have been suffering f...  \n",
            "1197  Lately, I have been experiencing symptoms such...  \n",
            "1198  For the past few days, I have been suffering f...  \n",
            "1199  For the past few days, I have been suffering f...  \n"
          ]
        }
      ]
    },
    {
      "cell_type": "code",
      "source": [
        "plt.figure(figsize=(8, 5))\n",
        "data['Disease'].value_counts().plot(kind='bar', color='pink')\n",
        "plt.title('Class Distribution')\n",
        "plt.xlabel('Class')\n",
        "plt.ylabel('Count')\n",
        "plt.show()"
      ],
      "metadata": {
        "colab": {
          "base_uri": "https://localhost:8080/",
          "height": 627
        },
        "id": "B8qoOD_QBUIS",
        "outputId": "4584a681-a6d1-4750-f5c0-03c8fea5da01"
      },
      "execution_count": null,
      "outputs": [
        {
          "output_type": "display_data",
          "data": {
            "text/plain": [
              "<Figure size 800x500 with 1 Axes>"
            ],
            "image/png": "[encoded data removed]"
          },
          "metadata": {}
        }
      ]
    },
    {
      "cell_type": "code",
      "source": [
        "class_distribution = data['Disease'].value_counts()\n",
        "plt.figure(figsize=(6, 6))\n",
        "plt.pie(class_distribution, labels=class_distribution.index, autopct='%1.1f%%', startangle=140)\n",
        "plt.title(\"Class Distribution\")\n",
        "plt.show()"
      ],
      "metadata": {
        "colab": {
          "base_uri": "https://localhost:8080/",
          "height": 521
        },
        "id": "NC4EZfbP3Fro",
        "outputId": "2490ffb0-5ab3-4c70-c216-4ac0dfcbb096"
      },
      "execution_count": null,
      "outputs": [
        {
          "output_type": "display_data",
          "data": {
            "text/plain": [
              "<Figure size 600x600 with 1 Axes>"
            ],
            "image/png": "[encoded data removed]"
          },
          "metadata": {}
        }
      ]
    },
    {
      "cell_type": "code",
      "source": [
        "data['Description'] = data['Description'].astype(str)\n",
        "data['Description'] = data['Description'].apply(len)\n",
        "print(\"\\nText Length Statistics:\")\n",
        "print(data['Description'].describe())\n",
        "plt.figure(figsize=(10, 6))\n",
        "sns.histplot(data['Description'], bins=50, kde=True)\n",
        "plt.title(\"Text Length Distribution\")\n",
        "plt.show()"
      ],
      "metadata": {
        "colab": {
          "base_uri": "https://localhost:8080/",
          "height": 764
        },
        "id": "oRF3mqhiUkxW",
        "outputId": "2635fdb5-56e2-46ab-8ccf-6b2ccd0b53b2"
      },
      "execution_count": null,
      "outputs": [
        {
          "output_type": "stream",
          "name": "stdout",
          "text": [
            "\n",
            "Text Length Statistics:\n",
            "count    1200.000000\n",
            "mean      339.116667\n",
            "std        15.567649\n",
            "min       298.000000\n",
            "25%       328.000000\n",
            "50%       338.000000\n",
            "75%       350.000000\n",
            "max       390.000000\n",
            "Name: Description, dtype: float64\n"
          ]
        },
        {
          "output_type": "display_data",
          "data": {
            "text/plain": [
              "<Figure size 1000x600 with 1 Axes>"
            ],
            "image/png": "[encoded data removed]"
          },
          "metadata": {}
        }
      ]
    },
    {
      "cell_type": "code",
      "source": [
        "train_data, test_data = train_test_split(data, test_size=0.2, random_state=42)\n",
        "train_data, val_data = train_test_split(train_data, test_size=0.1, random_state=42)\n",
        "print(\"Data split completed.\")\n",
        "print(f\"Train set size: {len(train_data)}\")\n",
        "print(f\"Validation set size: {len(val_data)}\")\n",
        "print(f\"Test set size: {len(test_data)}\")"
      ],
      "metadata": {
        "colab": {
          "base_uri": "https://localhost:8080/"
        },
        "id": "k7hfwlX0Bvv7",
        "outputId": "728bfdfc-fa70-41fd-d724-d144198764d5"
      },
      "execution_count": null,
      "outputs": [
        {
          "output_type": "stream",
          "name": "stdout",
          "text": [
            "Data split completed.\n",
            "Train set size: 864\n",
            "Validation set size: 96\n",
            "Test set size: 240\n"
          ]
        }
      ]
    },
    {
      "cell_type": "markdown",
      "source": [
        "### SECTION 2: TEXT PROCESSING"
      ],
      "metadata": {
        "id": "9QLtmYXtB4bD"
      }
    },
    {
      "cell_type": "code",
      "source": [
        "stemmer = PorterStemmer()\n",
        "lemmatizer = WordNetLemmatizer()\n",
        "\n",
        "def preprocess_text(text, use_stemming=False, use_lemmatization=False):\n",
        "    text = text.lower()\n",
        "    text = re.sub(r'\\W', ' ', text)\n",
        "    text = re.sub(r'\\s+', ' ', text)\n",
        "    tokens = word_tokenize(text)\n",
        "    tokens = [word for word in tokens if word not in stopwords.words('english')]\n",
        "\n",
        "    if use_stemming:\n",
        "        tokens = [stemmer.stem(word) for word in tokens]\n",
        "    elif use_lemmatization:\n",
        "        tokens = [lemmatizer.lemmatize(word) for word in tokens]\n",
        "\n",
        "    return ' '.join(tokens)\n",
        "\n",
        "train_data['Description_processed'] = train_data['Description'].apply(preprocess_text, use_lemmatization=True)\n",
        "val_data['Description_processed'] = val_data['Description'].apply(preprocess_text, use_lemmatization=True)\n",
        "test_data['Description_processed'] = test_data['Description'].apply(preprocess_text, use_lemmatization=True)\n",
        "print(train_data[['Description', 'Description_processed']].head())"
      ],
      "metadata": {
        "colab": {
          "base_uri": "https://localhost:8080/"
        },
        "id": "y_OMbnED8B5_",
        "outputId": "8b5374af-2804-4fbf-f1ae-c19fb23f3f5d"
      },
      "execution_count": null,
      "outputs": [
        {
          "output_type": "stream",
          "name": "stdout",
          "text": [
            "                                         Description  \\\n",
            "0  Lately, I have been experiencing symptoms such...   \n",
            "1  I have noticed persistent painful blisters, pe...   \n",
            "2  I have noticed persistent itchy patches, redne...   \n",
            "3  I have noticed persistent itchy patches, redne...   \n",
            "4  Lately, I have been experiencing symptoms such...   \n",
            "\n",
            "                               Description_processed  \n",
            "0  lately experiencing symptom itchy patch rednes...  \n",
            "1  noticed persistent painful blister peeling ski...  \n",
            "2  noticed persistent itchy patch redness scaling...  \n",
            "3  noticed persistent itchy patch redness scaling...  \n",
            "4  lately experiencing symptom painful blister pe...  \n"
          ]
        }
      ]
    },
    {
      "cell_type": "markdown",
      "source": [
        "### SECTION 3: Text Embedding"
      ],
      "metadata": {
        "id": "cujlm4yOCdC0"
      }
    },
    {
      "cell_type": "code",
      "source": [
        "label_encoder = LabelEncoder()\n",
        "train_data['Disease'] = label_encoder.fit_transform(train_data['Disease'])\n",
        "val_data['Disease'] = label_encoder.transform(val_data['Disease'])\n",
        "test_data['Disease'] = label_encoder.transform(test_data['Disease'])"
      ],
      "metadata": {
        "id": "YR6ZZBKACjeD"
      },
      "execution_count": null,
      "outputs": []
    },
    {
      "cell_type": "code",
      "source": [
        "# Bag of Words (BoW)\n",
        "bow_vectorizer = CountVectorizer(max_features=5000)\n",
        "X_train_bow = bow_vectorizer.fit_transform(train_data['Description_processed']).toarray()\n",
        "X_val_bow = bow_vectorizer.transform(val_data['Description_processed']).toarray()\n",
        "X_test_bow = bow_vectorizer.transform(test_data['Description_processed']).toarray()\n",
        "\n",
        "# TF-IDF\n",
        "tfidf_vectorizer = TfidfVectorizer(max_features=5000)\n",
        "X_train_tfidf = tfidf_vectorizer.fit_transform(train_data['Description_processed']).toarray()\n",
        "X_val_tfidf = tfidf_vectorizer.transform(val_data['Description_processed']).toarray()\n",
        "X_test_tfidf = tfidf_vectorizer.transform(test_data['Description_processed']).toarray()\n",
        "\n",
        "# Convert text into tokenized lists\n",
        "train_tokens = train_data['Description_processed'].apply(word_tokenize)\n",
        "val_tokens = val_data['Description_processed'].apply(word_tokenize)\n",
        "test_tokens = test_data['Description_processed'].apply(word_tokenize)\n",
        "\n",
        "# FastText (Word Embeddings)\n",
        "fasttext_model = gensim.models.FastText(sentences=train_tokens, vector_size=100, window=5, min_count=5)\n",
        "X_train_fasttext = np.array([np.mean([fasttext_model.wv[word] for word in text if word in fasttext_model.wv] or [np.zeros(100)], axis=0) for text in train_tokens])\n",
        "X_val_fasttext = np.array([np.mean([fasttext_model.wv[word] for word in text if word in fasttext_model.wv] or [np.zeros(100)], axis=0) for text in val_tokens])\n",
        "X_test_fasttext = np.array([np.mean([fasttext_model.wv[word] for word in text if word in fasttext_model.wv] or [np.zeros(100)], axis=0) for text in test_tokens])\n",
        "\n",
        "# Word2Vec (Word Embeddings)\n",
        "word2vec_model = gensim.models.Word2Vec(sentences=train_tokens, vector_size=100, window=5, min_count=5)\n",
        "X_train_word2vec = np.array([np.mean([word2vec_model.wv[word] for word in text if word in word2vec_model.wv] or [np.zeros(100)], axis=0) for text in train_tokens])\n",
        "X_val_word2vec = np.array([np.mean([word2vec_model.wv[word] for word in text if word in word2vec_model.wv] or [np.zeros(100)], axis=0) for text in val_tokens])\n",
        "X_test_word2vec = np.array([np.mean([word2vec_model.wv[word] for word in text if word in word2vec_model.wv] or [np.zeros(100)], axis=0) for text in test_tokens])\n",
        "\n",
        "print(\"Embedding completed for BoW, TF-IDF, FastText, and Word2Vec.\")"
      ],
      "metadata": {
        "colab": {
          "base_uri": "https://localhost:8080/"
        },
        "id": "DaFEVhm3C4-D",
        "outputId": "c7fca895-6115-4001-8792-d158fc4b4dd3"
      },
      "execution_count": null,
      "outputs": [
        {
          "output_type": "stream",
          "name": "stdout",
          "text": [
            "Embedding completed for BoW, TF-IDF, FastText, and Word2Vec.\n"
          ]
        }
      ]
    },
    {
      "cell_type": "code",
      "source": [
        "joblib.dump(tfidf_vectorizer, \"tfidf_vectorizer.pkl\")\n",
        "\n",
        "joblib.dump(bow_vectorizer, \"bow_vectorizer.pkl\")\n",
        "\n",
        "word2vec_model.save(\"word2vec_model.model\")\n",
        "\n",
        "joblib.dump(label_encoder, 'label_encoder.pkl')"
      ],
      "metadata": {
        "colab": {
          "base_uri": "https://localhost:8080/"
        },
        "id": "83L1vwGDnEv5",
        "outputId": "a3175a76-58f1-4849-e07e-e947c1265ebe"
      },
      "execution_count": null,
      "outputs": [
        {
          "output_type": "execute_result",
          "data": {
            "text/plain": [
              "['label_encoder.pkl']"
            ]
          },
          "metadata": {},
          "execution_count": 21
        }
      ]
    },
    {
      "cell_type": "markdown",
      "source": [
        "### SECTION 4: Model Training with Different Architectures"
      ],
      "metadata": {
        "id": "VzKo6Z6XDr57"
      }
    },
    {
      "cell_type": "code",
      "source": [
        "y_train = train_data['Disease']\n",
        "y_val = val_data['Disease']\n",
        "y_test = test_data['Disease']\n",
        "\n",
        "def cnn_model(input_dim, num_classes):\n",
        "    model = Sequential()\n",
        "    model.add(Embedding(input_dim, 128, input_length=5000))\n",
        "    model.add(Conv1D(filters=64, kernel_size=5, activation='relu'))\n",
        "    model.add(MaxPooling1D(pool_size=2))\n",
        "    model.add(Flatten())\n",
        "    model.add(Dense(100, activation='relu'))\n",
        "    model.add(Dense(num_classes, activation='softmax'))  # Output layer for multi-class\n",
        "    model.compile(optimizer= Adam(learning_rate=0.0001), loss='sparse_categorical_crossentropy', metrics=['accuracy'])\n",
        "    return model\n",
        "\n",
        "def lstm_model(input_dim, num_classes):\n",
        "    model = Sequential()\n",
        "    model.add(Embedding(input_dim, 128, input_length=5000))\n",
        "    model.add(LSTM(100, dropout=0.2, recurrent_dropout=0.2))\n",
        "    model.add(Dense(num_classes, activation='softmax'))  # Output layer for multi-class\n",
        "    model.compile(optimizer= Adam(learning_rate=0.0001), loss='sparse_categorical_crossentropy', metrics=['accuracy'])\n",
        "    return model\n",
        "\n",
        "def cnn_bilstm_model(input_dim, num_classes):\n",
        "    model = Sequential()\n",
        "    model.add(Embedding(input_dim, 128, input_length=5000))\n",
        "    model.add(Conv1D(filters=64, kernel_size=5, activation='relu'))\n",
        "    model.add(MaxPooling1D(pool_size=2))\n",
        "    model.add(Bidirectional(LSTM(100, dropout=0.2, recurrent_dropout=0.2)))\n",
        "    model.add(Dense(num_classes, activation='softmax'))  # Output layer for multi-class\n",
        "    model.compile(optimizer= Adam(learning_rate=0.0001), loss='sparse_categorical_crossentropy', metrics=['accuracy'])\n",
        "    return model\n",
        "\n",
        "def gru_model(input_dim, num_classes):\n",
        "    model = Sequential()\n",
        "    model.add(Embedding(input_dim, 128, input_length=5000))\n",
        "    model.add(GRU(100, dropout=0.2, recurrent_dropout=0.2))\n",
        "    model.add(Dense(num_classes, activation='softmax'))\n",
        "    model.compile(optimizer=Adam(learning_rate=0.0001), loss='sparse_categorical_crossentropy', metrics=['accuracy'])\n",
        "    return model\n",
        "\n",
        "def cnn_gru_model(input_dim, num_classes):\n",
        "    model = Sequential()\n",
        "    model.add(Embedding(input_dim, 128, input_length=5000))\n",
        "    model.add(Conv1D(filters=64, kernel_size=5, activation='relu'))\n",
        "    model.add(MaxPooling1D(pool_size=2))\n",
        "    model.add(GRU(100, dropout=0.2, recurrent_dropout=0.2))\n",
        "    model.add(Dense(num_classes, activation='softmax'))\n",
        "    model.compile(optimizer=Adam(learning_rate=0.0001), loss='sparse_categorical_crossentropy', metrics=['accuracy'])\n",
        "    return model\n",
        "\n",
        "def bilstm_gru_model(input_dim, num_classes):\n",
        "    model = Sequential()\n",
        "    model.add(Embedding(input_dim, 128, input_length=5000))\n",
        "    model.add(Bidirectional(LSTM(100, return_sequences=True, dropout=0.2, recurrent_dropout=0.2)))\n",
        "    model.add(GRU(100, dropout=0.2, recurrent_dropout=0.2))\n",
        "    model.add(Dense(num_classes, activation='softmax'))\n",
        "    model.compile(optimizer=Adam(learning_rate=0.0001), loss='sparse_categorical_crossentropy', metrics=['accuracy'])\n",
        "    return model\n",
        "\n",
        "input_dim = 5000\n",
        "num_classes = 30\n",
        "\n",
        "# CNN Model\n",
        "cnn = cnn_model(input_dim, num_classes)\n",
        "cnn.fit(X_train_bow, y_train, validation_data=(X_val_bow, y_val), epochs=5, batch_size=64)\n",
        "\n",
        "# LSTM Model\n",
        "lstm = lstm_model(input_dim, num_classes)\n",
        "lstm.fit(X_train_bow, y_train, validation_data=(X_val_bow, y_val), epochs=5, batch_size=64)\n",
        "\n",
        "# CNN-BiLSTM Model\n",
        "cnn_bilstm = cnn_bilstm_model(input_dim, num_classes)\n",
        "cnn_bilstm.fit(X_train_bow, y_train, validation_data=(X_val_bow, y_val), epochs=5, batch_size=64)\n",
        "\n",
        "# GRU Model\n",
        "gru = gru_model(input_dim, num_classes)\n",
        "gru.fit(X_train_bow, y_train, validation_data=(X_val_bow, y_val), epochs=5, batch_size=64)\n",
        "\n",
        "# CNN-GRU Model\n",
        "cnn_gru = cnn_gru_model(input_dim, num_classes)\n",
        "cnn_gru.fit(X_train_bow, y_train, validation_data=(X_val_bow, y_val), epochs=5, batch_size=64)\n",
        "\n",
        "# BiLSTM-GRU Model\n",
        "bilstm_gru = bilstm_gru_model(input_dim, num_classes)\n",
        "bilstm_gru.fit(X_train_bow, y_train, validation_data=(X_val_bow, y_val), epochs=5, batch_size=64)"
      ],
      "metadata": {
        "colab": {
          "base_uri": "https://localhost:8080/"
        },
        "id": "tWnpuh1VDvcb",
        "outputId": "2d8b9044-daf4-4b3a-d2dc-83b2fcddccd3"
      },
      "execution_count": null,
      "outputs": [
        {
          "output_type": "stream",
          "name": "stdout",
          "text": [
            "Epoch 1/5\n"
          ]
        },
        {
          "output_type": "stream",
          "name": "stderr",
          "text": [
            "/usr/local/lib/python3.11/dist-packages/keras/src/layers/core/embedding.py:90: UserWarning: Argument `input_length` is deprecated. Just remove it.\n",
            "  warnings.warn(\n"
          ]
        },
        {
          "output_type": "stream",
          "name": "stdout",
          "text": [
            "\u001b[1m19/19\u001b[0m \u001b[32m━━━━━━━━━━━━━━━━━━━━\u001b[0m\u001b[37m\u001b[0m \u001b[1m4s\u001b[0m 110ms/step - accuracy: 0.0301 - loss: 3.5194 - val_accuracy: 0.0208 - val_loss: 3.5092\n",
            "Epoch 2/5\n",
            "\u001b[1m19/19\u001b[0m \u001b[32m━━━━━━━━━━━━━━━━━━━━\u001b[0m\u001b[37m\u001b[0m \u001b[1m3s\u001b[0m 160ms/step - accuracy: 0.0386 - loss: 3.4877 - val_accuracy: 0.0208 - val_loss: 3.4916\n",
            "Epoch 3/5\n",
            "\u001b[1m19/19\u001b[0m \u001b[32m━━━━━━━━━━━━━━━━━━━━\u001b[0m\u001b[37m\u001b[0m \u001b[1m3s\u001b[0m 183ms/step - accuracy: 0.0496 - loss: 3.4437 - val_accuracy: 0.0208 - val_loss: 3.4739\n",
            "Epoch 4/5\n",
            "\u001b[1m19/19\u001b[0m \u001b[32m━━━━━━━━━━━━━━━━━━━━\u001b[0m\u001b[37m\u001b[0m \u001b[1m2s\u001b[0m 96ms/step - accuracy: 0.0565 - loss: 3.3891 - val_accuracy: 0.0625 - val_loss: 3.4660\n",
            "Epoch 5/5\n",
            "\u001b[1m19/19\u001b[0m \u001b[32m━━━━━━━━━━━━━━━━━━━━\u001b[0m\u001b[37m\u001b[0m \u001b[1m2s\u001b[0m 97ms/step - accuracy: 0.1031 - loss: 3.3070 - val_accuracy: 0.0208 - val_loss: 3.4578\n",
            "Epoch 1/5\n",
            "\u001b[1m19/19\u001b[0m \u001b[32m━━━━━━━━━━━━━━━━━━━━\u001b[0m\u001b[37m\u001b[0m \u001b[1m14s\u001b[0m 527ms/step - accuracy: 0.0291 - loss: 3.5263 - val_accuracy: 0.0312 - val_loss: 3.5235\n",
            "Epoch 2/5\n",
            "\u001b[1m19/19\u001b[0m \u001b[32m━━━━━━━━━━━━━━━━━━━━\u001b[0m\u001b[37m\u001b[0m \u001b[1m10s\u001b[0m 495ms/step - accuracy: 0.0263 - loss: 3.5215 - val_accuracy: 0.0312 - val_loss: 3.5183\n",
            "Epoch 3/5\n",
            "\u001b[1m19/19\u001b[0m \u001b[32m━━━━━━━━━━━━━━━━━━━━\u001b[0m\u001b[37m\u001b[0m \u001b[1m10s\u001b[0m 509ms/step - accuracy: 0.0363 - loss: 3.5154 - val_accuracy: 0.0208 - val_loss: 3.5119\n",
            "Epoch 4/5\n",
            "\u001b[1m19/19\u001b[0m \u001b[32m━━━━━━━━━━━━━━━━━━━━\u001b[0m\u001b[37m\u001b[0m \u001b[1m9s\u001b[0m 432ms/step - accuracy: 0.0288 - loss: 3.5070 - val_accuracy: 0.0208 - val_loss: 3.5031\n",
            "Epoch 5/5\n",
            "\u001b[1m19/19\u001b[0m \u001b[32m━━━━━━━━━━━━━━━━━━━━\u001b[0m\u001b[37m\u001b[0m \u001b[1m10s\u001b[0m 431ms/step - accuracy: 0.0295 - loss: 3.5006 - val_accuracy: 0.0208 - val_loss: 3.4875\n",
            "Epoch 1/5\n",
            "\u001b[1m19/19\u001b[0m \u001b[32m━━━━━━━━━━━━━━━━━━━━\u001b[0m\u001b[37m\u001b[0m \u001b[1m19s\u001b[0m 569ms/step - accuracy: 0.0304 - loss: 3.5271 - val_accuracy: 0.0104 - val_loss: 3.5219\n",
            "Epoch 2/5\n",
            "\u001b[1m19/19\u001b[0m \u001b[32m━━━━━━━━━━━━━━━━━━━━\u001b[0m\u001b[37m\u001b[0m \u001b[1m9s\u001b[0m 459ms/step - accuracy: 0.0267 - loss: 3.5215 - val_accuracy: 0.0104 - val_loss: 3.5166\n",
            "Epoch 3/5\n",
            "\u001b[1m19/19\u001b[0m \u001b[32m━━━━━━━━━━━━━━━━━━━━\u001b[0m\u001b[37m\u001b[0m \u001b[1m10s\u001b[0m 443ms/step - accuracy: 0.0448 - loss: 3.5138 - val_accuracy: 0.0104 - val_loss: 3.5090\n",
            "Epoch 4/5\n",
            "\u001b[1m19/19\u001b[0m \u001b[32m━━━━━━━━━━━━━━━━━━━━\u001b[0m\u001b[37m\u001b[0m \u001b[1m11s\u001b[0m 477ms/step - accuracy: 0.0238 - loss: 3.5042 - val_accuracy: 0.0312 - val_loss: 3.4953\n",
            "Epoch 5/5\n",
            "\u001b[1m19/19\u001b[0m \u001b[32m━━━━━━━━━━━━━━━━━━━━\u001b[0m\u001b[37m\u001b[0m \u001b[1m10s\u001b[0m 525ms/step - accuracy: 0.0400 - loss: 3.4876 - val_accuracy: 0.0104 - val_loss: 3.4805\n",
            "Epoch 1/5\n",
            "\u001b[1m19/19\u001b[0m \u001b[32m━━━━━━━━━━━━━━━━━━━━\u001b[0m\u001b[37m\u001b[0m \u001b[1m14s\u001b[0m 526ms/step - accuracy: 0.0318 - loss: 3.5261 - val_accuracy: 0.0312 - val_loss: 3.5245\n",
            "Epoch 2/5\n",
            "\u001b[1m19/19\u001b[0m \u001b[32m━━━━━━━━━━━━━━━━━━━━\u001b[0m\u001b[37m\u001b[0m \u001b[1m10s\u001b[0m 489ms/step - accuracy: 0.0455 - loss: 3.5207 - val_accuracy: 0.0521 - val_loss: 3.5210\n",
            "Epoch 3/5\n",
            "\u001b[1m19/19\u001b[0m \u001b[32m━━━━━━━━━━━━━━━━━━━━\u001b[0m\u001b[37m\u001b[0m \u001b[1m9s\u001b[0m 452ms/step - accuracy: 0.0326 - loss: 3.5169 - val_accuracy: 0.0104 - val_loss: 3.5170\n",
            "Epoch 4/5\n",
            "\u001b[1m19/19\u001b[0m \u001b[32m━━━━━━━━━━━━━━━━━━━━\u001b[0m\u001b[37m\u001b[0m \u001b[1m10s\u001b[0m 416ms/step - accuracy: 0.0423 - loss: 3.5113 - val_accuracy: 0.0104 - val_loss: 3.5130\n",
            "Epoch 5/5\n",
            "\u001b[1m19/19\u001b[0m \u001b[32m━━━━━━━━━━━━━━━━━━━━\u001b[0m\u001b[37m\u001b[0m \u001b[1m11s\u001b[0m 414ms/step - accuracy: 0.0438 - loss: 3.5051 - val_accuracy: 0.0104 - val_loss: 3.5082\n",
            "Epoch 1/5\n",
            "\u001b[1m19/19\u001b[0m \u001b[32m━━━━━━━━━━━━━━━━━━━━\u001b[0m\u001b[37m\u001b[0m \u001b[1m11s\u001b[0m 288ms/step - accuracy: 0.0384 - loss: 3.5253 - val_accuracy: 0.0417 - val_loss: 3.5208\n",
            "Epoch 2/5\n",
            "\u001b[1m19/19\u001b[0m \u001b[32m━━━━━━━━━━━━━━━━━━━━\u001b[0m\u001b[37m\u001b[0m \u001b[1m10s\u001b[0m 252ms/step - accuracy: 0.0337 - loss: 3.5191 - val_accuracy: 0.0312 - val_loss: 3.5158\n",
            "Epoch 3/5\n",
            "\u001b[1m19/19\u001b[0m \u001b[32m━━━━━━━━━━━━━━━━━━━━\u001b[0m\u001b[37m\u001b[0m \u001b[1m6s\u001b[0m 293ms/step - accuracy: 0.0395 - loss: 3.5155 - val_accuracy: 0.0312 - val_loss: 3.5094\n",
            "Epoch 4/5\n",
            "\u001b[1m19/19\u001b[0m \u001b[32m━━━━━━━━━━━━━━━━━━━━\u001b[0m\u001b[37m\u001b[0m \u001b[1m5s\u001b[0m 259ms/step - accuracy: 0.0376 - loss: 3.5092 - val_accuracy: 0.0104 - val_loss: 3.5006\n",
            "Epoch 5/5\n",
            "\u001b[1m19/19\u001b[0m \u001b[32m━━━━━━━━━━━━━━━━━━━━\u001b[0m\u001b[37m\u001b[0m \u001b[1m11s\u001b[0m 319ms/step - accuracy: 0.0280 - loss: 3.4995 - val_accuracy: 0.0417 - val_loss: 3.4898\n",
            "Epoch 1/5\n",
            "\u001b[1m19/19\u001b[0m \u001b[32m━━━━━━━━━━━━━━━━━━━━\u001b[0m\u001b[37m\u001b[0m \u001b[1m42s\u001b[0m 2s/step - accuracy: 0.0283 - loss: 3.5259 - val_accuracy: 0.0417 - val_loss: 3.5169\n",
            "Epoch 2/5\n",
            "\u001b[1m19/19\u001b[0m \u001b[32m━━━━━━━━━━━━━━━━━━━━\u001b[0m\u001b[37m\u001b[0m \u001b[1m39s\u001b[0m 2s/step - accuracy: 0.0396 - loss: 3.5167 - val_accuracy: 0.0417 - val_loss: 3.5065\n",
            "Epoch 3/5\n",
            "\u001b[1m19/19\u001b[0m \u001b[32m━━━━━━━━━━━━━━━━━━━━\u001b[0m\u001b[37m\u001b[0m \u001b[1m29s\u001b[0m 2s/step - accuracy: 0.0252 - loss: 3.5097 - val_accuracy: 0.0417 - val_loss: 3.4929\n",
            "Epoch 4/5\n",
            "\u001b[1m19/19\u001b[0m \u001b[32m━━━━━━━━━━━━━━━━━━━━\u001b[0m\u001b[37m\u001b[0m \u001b[1m42s\u001b[0m 2s/step - accuracy: 0.0321 - loss: 3.5022 - val_accuracy: 0.0417 - val_loss: 3.4737\n",
            "Epoch 5/5\n",
            "\u001b[1m19/19\u001b[0m \u001b[32m━━━━━━━━━━━━━━━━━━━━\u001b[0m\u001b[37m\u001b[0m \u001b[1m40s\u001b[0m 2s/step - accuracy: 0.0287 - loss: 3.4820 - val_accuracy: 0.0417 - val_loss: 3.4432\n"
          ]
        },
        {
          "output_type": "execute_result",
          "data": {
            "text/plain": [
              "<keras.src.callbacks.history.History at 0x790c81341650>"
            ]
          },
          "metadata": {},
          "execution_count": 24
        }
      ]
    },
    {
      "cell_type": "markdown",
      "source": [
        "Training Models By Tf-IDF"
      ],
      "metadata": {
        "id": "kXdEGqMJkQKQ"
      }
    },
    {
      "cell_type": "code",
      "source": [
        "input_dim = 5000\n",
        "num_classes = 30\n",
        "\n",
        "# CNN Model\n",
        "cnn = cnn_model(input_dim, num_classes)\n",
        "cnn.fit(X_train_tfidf, y_train, validation_data=(X_val_tfidf, y_val), epochs=5, batch_size=64)\n",
        "\n",
        "# LSTM Model\n",
        "lstm = lstm_model(input_dim, num_classes)\n",
        "lstm.fit(X_train_tfidf, y_train, validation_data=(X_val_tfidf, y_val), epochs=5, batch_size=64)\n",
        "\n",
        "\n",
        "# CNN-BiLSTM Model\n",
        "cnn_bilstm = cnn_bilstm_model(input_dim, num_classes)\n",
        "cnn_bilstm.fit(X_train_tfidf, y_train, validation_data=(X_val_tfidf, y_val), epochs=5, batch_size=64)\n",
        "\n",
        "\n",
        "# GRU Model\n",
        "gru = gru_model(input_dim, num_classes)\n",
        "gru.fit(X_train_tfidf, y_train, validation_data=(X_val_tfidf, y_val), epochs=5, batch_size=64)\n",
        "\n",
        "# CNN-GRU Model\n",
        "cnn_gru = cnn_gru_model(input_dim, num_classes)\n",
        "cnn_gru.fit(X_train_tfidf, y_train, validation_data=(X_val_tfidf, y_val), epochs=5, batch_size=64)\n",
        "\n",
        "\n",
        "# BiLSTM-GRU Model\n",
        "bilstm_gru = bilstm_gru_model(input_dim, num_classes)\n",
        "bilstm_gru.fit(X_train_tfidf, y_train, validation_data=(X_val_tfidf, y_val), epochs=5, batch_size=64)\n"
      ],
      "metadata": {
        "id": "xHXp6fgnRJiY",
        "colab": {
          "base_uri": "https://localhost:8080/"
        },
        "outputId": "f13f6c98-3eae-402d-d9ed-7de22167f823"
      },
      "execution_count": null,
      "outputs": [
        {
          "output_type": "stream",
          "name": "stdout",
          "text": [
            "Epoch 1/5\n"
          ]
        },
        {
          "output_type": "stream",
          "name": "stderr",
          "text": [
            "/usr/local/lib/python3.11/dist-packages/keras/src/layers/core/embedding.py:90: UserWarning: Argument `input_length` is deprecated. Just remove it.\n",
            "  warnings.warn(\n"
          ]
        },
        {
          "output_type": "stream",
          "name": "stdout",
          "text": [
            "\u001b[1m19/19\u001b[0m \u001b[32m━━━━━━━━━━━━━━━━━━━━\u001b[0m\u001b[37m\u001b[0m \u001b[1m4s\u001b[0m 144ms/step - accuracy: 0.0324 - loss: 3.5216 - val_accuracy: 0.0312 - val_loss: 3.5076\n",
            "Epoch 2/5\n",
            "\u001b[1m19/19\u001b[0m \u001b[32m━━━━━━━━━━━━━━━━━━━━\u001b[0m\u001b[37m\u001b[0m \u001b[1m2s\u001b[0m 121ms/step - accuracy: 0.0328 - loss: 3.5001 - val_accuracy: 0.0312 - val_loss: 3.4885\n",
            "Epoch 3/5\n",
            "\u001b[1m19/19\u001b[0m \u001b[32m━━━━━━━━━━━━━━━━━━━━\u001b[0m\u001b[37m\u001b[0m \u001b[1m2s\u001b[0m 98ms/step - accuracy: 0.0447 - loss: 3.4727 - val_accuracy: 0.0104 - val_loss: 3.4848\n",
            "Epoch 4/5\n",
            "\u001b[1m19/19\u001b[0m \u001b[32m━━━━━━━━━━━━━━━━━━━━\u001b[0m\u001b[37m\u001b[0m \u001b[1m3s\u001b[0m 105ms/step - accuracy: 0.0282 - loss: 3.4653 - val_accuracy: 0.0208 - val_loss: 3.4804\n",
            "Epoch 5/5\n",
            "\u001b[1m19/19\u001b[0m \u001b[32m━━━━━━━━━━━━━━━━━━━━\u001b[0m\u001b[37m\u001b[0m \u001b[1m3s\u001b[0m 158ms/step - accuracy: 0.0260 - loss: 3.4642 - val_accuracy: 0.0208 - val_loss: 3.4771\n",
            "Epoch 1/5\n",
            "\u001b[1m19/19\u001b[0m \u001b[32m━━━━━━━━━━━━━━━━━━━━\u001b[0m\u001b[37m\u001b[0m \u001b[1m14s\u001b[0m 535ms/step - accuracy: 0.0255 - loss: 3.5237 - val_accuracy: 0.0312 - val_loss: 3.5173\n",
            "Epoch 2/5\n",
            "\u001b[1m19/19\u001b[0m \u001b[32m━━━━━━━━━━━━━━━━━━━━\u001b[0m\u001b[37m\u001b[0m \u001b[1m8s\u001b[0m 435ms/step - accuracy: 0.0286 - loss: 3.5191 - val_accuracy: 0.0417 - val_loss: 3.5119\n",
            "Epoch 3/5\n",
            "\u001b[1m19/19\u001b[0m \u001b[32m━━━━━━━━━━━━━━━━━━━━\u001b[0m\u001b[37m\u001b[0m \u001b[1m10s\u001b[0m 506ms/step - accuracy: 0.0441 - loss: 3.5111 - val_accuracy: 0.0417 - val_loss: 3.5049\n",
            "Epoch 4/5\n",
            "\u001b[1m19/19\u001b[0m \u001b[32m━━━━━━━━━━━━━━━━━━━━\u001b[0m\u001b[37m\u001b[0m \u001b[1m10s\u001b[0m 501ms/step - accuracy: 0.0282 - loss: 3.5067 - val_accuracy: 0.0417 - val_loss: 3.4962\n",
            "Epoch 5/5\n",
            "\u001b[1m19/19\u001b[0m \u001b[32m━━━━━━━━━━━━━━━━━━━━\u001b[0m\u001b[37m\u001b[0m \u001b[1m18s\u001b[0m 899ms/step - accuracy: 0.0311 - loss: 3.4947 - val_accuracy: 0.0417 - val_loss: 3.4837\n",
            "Epoch 1/5\n",
            "\u001b[1m19/19\u001b[0m \u001b[32m━━━━━━━━━━━━━━━━━━━━\u001b[0m\u001b[37m\u001b[0m \u001b[1m30s\u001b[0m 1s/step - accuracy: 0.0416 - loss: 3.5259 - val_accuracy: 0.0521 - val_loss: 3.5190\n",
            "Epoch 2/5\n",
            "\u001b[1m19/19\u001b[0m \u001b[32m━━━━━━━━━━━━━━━━━━━━\u001b[0m\u001b[37m\u001b[0m \u001b[1m11s\u001b[0m 497ms/step - accuracy: 0.0291 - loss: 3.5214 - val_accuracy: 0.0521 - val_loss: 3.5135\n",
            "Epoch 3/5\n",
            "\u001b[1m19/19\u001b[0m \u001b[32m━━━━━━━━━━━━━━━━━━━━\u001b[0m\u001b[37m\u001b[0m \u001b[1m10s\u001b[0m 456ms/step - accuracy: 0.0295 - loss: 3.5146 - val_accuracy: 0.0521 - val_loss: 3.5036\n",
            "Epoch 4/5\n",
            "\u001b[1m19/19\u001b[0m \u001b[32m━━━━━━━━━━━━━━━━━━━━\u001b[0m\u001b[37m\u001b[0m \u001b[1m10s\u001b[0m 510ms/step - accuracy: 0.0254 - loss: 3.5041 - val_accuracy: 0.0521 - val_loss: 3.4891\n",
            "Epoch 5/5\n",
            "\u001b[1m19/19\u001b[0m \u001b[32m━━━━━━━━━━━━━━━━━━━━\u001b[0m\u001b[37m\u001b[0m \u001b[1m10s\u001b[0m 509ms/step - accuracy: 0.0404 - loss: 3.4895 - val_accuracy: 0.0208 - val_loss: 3.4676\n",
            "Epoch 1/5\n",
            "\u001b[1m19/19\u001b[0m \u001b[32m━━━━━━━━━━━━━━━━━━━━\u001b[0m\u001b[37m\u001b[0m \u001b[1m14s\u001b[0m 523ms/step - accuracy: 0.0256 - loss: 3.5275 - val_accuracy: 0.0104 - val_loss: 3.5248\n",
            "Epoch 2/5\n",
            "\u001b[1m19/19\u001b[0m \u001b[32m━━━━━━━━━━━━━━━━━━━━\u001b[0m\u001b[37m\u001b[0m \u001b[1m9s\u001b[0m 459ms/step - accuracy: 0.0394 - loss: 3.5231 - val_accuracy: 0.0312 - val_loss: 3.5191\n",
            "Epoch 3/5\n",
            "\u001b[1m19/19\u001b[0m \u001b[32m━━━━━━━━━━━━━━━━━━━━\u001b[0m\u001b[37m\u001b[0m \u001b[1m10s\u001b[0m 442ms/step - accuracy: 0.0178 - loss: 3.5169 - val_accuracy: 0.0312 - val_loss: 3.5135\n",
            "Epoch 4/5\n",
            "\u001b[1m19/19\u001b[0m \u001b[32m━━━━━━━━━━━━━━━━━━━━\u001b[0m\u001b[37m\u001b[0m \u001b[1m10s\u001b[0m 411ms/step - accuracy: 0.0288 - loss: 3.5122 - val_accuracy: 0.0312 - val_loss: 3.5075\n",
            "Epoch 5/5\n",
            "\u001b[1m19/19\u001b[0m \u001b[32m━━━━━━━━━━━━━━━━━━━━\u001b[0m\u001b[37m\u001b[0m \u001b[1m12s\u001b[0m 513ms/step - accuracy: 0.0331 - loss: 3.5043 - val_accuracy: 0.0312 - val_loss: 3.5006\n",
            "Epoch 1/5\n",
            "\u001b[1m19/19\u001b[0m \u001b[32m━━━━━━━━━━━━━━━━━━━━\u001b[0m\u001b[37m\u001b[0m \u001b[1m100s\u001b[0m 392ms/step - accuracy: 0.0314 - loss: 3.5252 - val_accuracy: 0.0417 - val_loss: 3.5196\n",
            "Epoch 2/5\n",
            "\u001b[1m19/19\u001b[0m \u001b[32m━━━━━━━━━━━━━━━━━━━━\u001b[0m\u001b[37m\u001b[0m \u001b[1m8s\u001b[0m 267ms/step - accuracy: 0.0364 - loss: 3.5188 - val_accuracy: 0.0417 - val_loss: 3.5131\n",
            "Epoch 3/5\n",
            "\u001b[1m19/19\u001b[0m \u001b[32m━━━━━━━━━━━━━━━━━━━━\u001b[0m\u001b[37m\u001b[0m \u001b[1m6s\u001b[0m 300ms/step - accuracy: 0.0311 - loss: 3.5137 - val_accuracy: 0.0417 - val_loss: 3.5058\n",
            "Epoch 4/5\n",
            "\u001b[1m19/19\u001b[0m \u001b[32m━━━━━━━━━━━━━━━━━━━━\u001b[0m\u001b[37m\u001b[0m \u001b[1m10s\u001b[0m 320ms/step - accuracy: 0.0281 - loss: 3.5076 - val_accuracy: 0.0417 - val_loss: 3.4969\n",
            "Epoch 5/5\n",
            "\u001b[1m19/19\u001b[0m \u001b[32m━━━━━━━━━━━━━━━━━━━━\u001b[0m\u001b[37m\u001b[0m \u001b[1m9s\u001b[0m 253ms/step - accuracy: 0.0368 - loss: 3.4963 - val_accuracy: 0.0417 - val_loss: 3.4846\n",
            "Epoch 1/5\n",
            "\u001b[1m19/19\u001b[0m \u001b[32m━━━━━━━━━━━━━━━━━━━━\u001b[0m\u001b[37m\u001b[0m \u001b[1m43s\u001b[0m 2s/step - accuracy: 0.0289 - loss: 3.5246 - val_accuracy: 0.0833 - val_loss: 3.5193\n",
            "Epoch 2/5\n",
            "\u001b[1m19/19\u001b[0m \u001b[32m━━━━━━━━━━━━━━━━━━━━\u001b[0m\u001b[37m\u001b[0m \u001b[1m39s\u001b[0m 2s/step - accuracy: 0.0449 - loss: 3.5178 - val_accuracy: 0.0417 - val_loss: 3.5127\n",
            "Epoch 3/5\n",
            "\u001b[1m19/19\u001b[0m \u001b[32m━━━━━━━━━━━━━━━━━━━━\u001b[0m\u001b[37m\u001b[0m \u001b[1m40s\u001b[0m 2s/step - accuracy: 0.0374 - loss: 3.5092 - val_accuracy: 0.0833 - val_loss: 3.5032\n",
            "Epoch 4/5\n",
            "\u001b[1m19/19\u001b[0m \u001b[32m━━━━━━━━━━━━━━━━━━━━\u001b[0m\u001b[37m\u001b[0m \u001b[1m41s\u001b[0m 2s/step - accuracy: 0.0421 - loss: 3.5037 - val_accuracy: 0.0417 - val_loss: 3.4911\n",
            "Epoch 5/5\n",
            "\u001b[1m19/19\u001b[0m \u001b[32m━━━━━━━━━━━━━━━━━━━━\u001b[0m\u001b[37m\u001b[0m \u001b[1m42s\u001b[0m 2s/step - accuracy: 0.0411 - loss: 3.4873 - val_accuracy: 0.0417 - val_loss: 3.4708\n"
          ]
        },
        {
          "output_type": "execute_result",
          "data": {
            "text/plain": [
              "<keras.src.callbacks.history.History at 0x7852d0576d10>"
            ]
          },
          "metadata": {},
          "execution_count": 32
        }
      ]
    },
    {
      "cell_type": "markdown",
      "source": [
        "Training Model By Fasttext\n"
      ],
      "metadata": {
        "id": "8kR4VMx7kVLQ"
      }
    },
    {
      "cell_type": "code",
      "source": [
        "input_dim = 5000\n",
        "num_classes = 30\n",
        "\n",
        "cnn = cnn_model(input_dim, num_classes)\n",
        "cnn.fit(X_train_fasttext, y_train, validation_data=(X_val_fasttext, y_val), epochs=5, batch_size=64)\n",
        "\n",
        "# LSTM Model\n",
        "lstm = lstm_model(input_dim, num_classes)\n",
        "lstm.fit(X_train_fasttext, y_train, validation_data=(X_val_fasttext, y_val), epochs=5, batch_size=64)\n",
        "\n",
        "# CNN-BiLSTM Model\n",
        "cnn_bilstm = cnn_bilstm_model(input_dim, num_classes)\n",
        "cnn_bilstm.fit(X_train_fasttext, y_train, validation_data=(X_val_fasttext, y_val), epochs=5, batch_size=64)\n",
        "\n",
        "# GRU Model\n",
        "gru = gru_model(input_dim, num_classes)\n",
        "gru.fit(X_train_fasttext, y_train, validation_data=(X_val_fasttext, y_val), epochs=5, batch_size=64)\n",
        "\n",
        "# CNN-GRU Model\n",
        "cnn_gru = cnn_gru_model(input_dim, num_classes)\n",
        "cnn_gru.fit(X_train_fasttext, y_train, validation_data=(X_val_fasttext, y_val), epochs=5, batch_size=64)\n",
        "\n",
        "# BiLSTM-GRU Model\n",
        "bilstm_gru = bilstm_gru_model(input_dim, num_classes)\n",
        "bilstm_gru.fit(X_train_fasttext, y_train, validation_data=(X_val_fasttext, y_val), epochs=5, batch_size=64)"
      ],
      "metadata": {
        "colab": {
          "base_uri": "https://localhost:8080/"
        },
        "id": "FS62AJh8jgRl",
        "outputId": "7c4e3de4-a645-4526-ccdd-91e5221868fd"
      },
      "execution_count": null,
      "outputs": [
        {
          "output_type": "stream",
          "name": "stdout",
          "text": [
            "Epoch 1/5\n",
            "\u001b[1m19/19\u001b[0m \u001b[32m━━━━━━━━━━━━━━━━━━━━\u001b[0m\u001b[37m\u001b[0m \u001b[1m3s\u001b[0m 66ms/step - accuracy: 0.0400 - loss: 3.5253 - val_accuracy: 0.0625 - val_loss: 3.5119\n",
            "Epoch 2/5\n",
            "\u001b[1m19/19\u001b[0m \u001b[32m━━━━━━━━━━━━━━━━━━━━\u001b[0m\u001b[37m\u001b[0m \u001b[1m2s\u001b[0m 52ms/step - accuracy: 0.0333 - loss: 3.5163 - val_accuracy: 0.0625 - val_loss: 3.4980\n",
            "Epoch 3/5\n",
            "\u001b[1m19/19\u001b[0m \u001b[32m━━━━━━━━━━━━━━━━━━━━\u001b[0m\u001b[37m\u001b[0m \u001b[1m1s\u001b[0m 52ms/step - accuracy: 0.0273 - loss: 3.5065 - val_accuracy: 0.0625 - val_loss: 3.4746\n",
            "Epoch 4/5\n",
            "\u001b[1m19/19\u001b[0m \u001b[32m━━━━━━━━━━━━━━━━━━━━\u001b[0m\u001b[37m\u001b[0m \u001b[1m1s\u001b[0m 52ms/step - accuracy: 0.0413 - loss: 3.4883 - val_accuracy: 0.0625 - val_loss: 3.4532\n",
            "Epoch 5/5\n",
            "\u001b[1m19/19\u001b[0m \u001b[32m━━━━━━━━━━━━━━━━━━━━\u001b[0m\u001b[37m\u001b[0m \u001b[1m2s\u001b[0m 81ms/step - accuracy: 0.0295 - loss: 3.4849 - val_accuracy: 0.0625 - val_loss: 3.4387\n",
            "Epoch 1/5\n",
            "\u001b[1m19/19\u001b[0m \u001b[32m━━━━━━━━━━━━━━━━━━━━\u001b[0m\u001b[37m\u001b[0m \u001b[1m9s\u001b[0m 260ms/step - accuracy: 0.0381 - loss: 3.5273 - val_accuracy: 0.0833 - val_loss: 3.5180\n",
            "Epoch 2/5\n",
            "\u001b[1m19/19\u001b[0m \u001b[32m━━━━━━━━━━━━━━━━━━━━\u001b[0m\u001b[37m\u001b[0m \u001b[1m6s\u001b[0m 297ms/step - accuracy: 0.0336 - loss: 3.5195 - val_accuracy: 0.0208 - val_loss: 3.5111\n",
            "Epoch 3/5\n",
            "\u001b[1m19/19\u001b[0m \u001b[32m━━━━━━━━━━━━━━━━━━━━\u001b[0m\u001b[37m\u001b[0m \u001b[1m10s\u001b[0m 281ms/step - accuracy: 0.0287 - loss: 3.5141 - val_accuracy: 0.0000e+00 - val_loss: 3.5028\n",
            "Epoch 4/5\n",
            "\u001b[1m19/19\u001b[0m \u001b[32m━━━━━━━━━━━━━━━━━━━━\u001b[0m\u001b[37m\u001b[0m \u001b[1m4s\u001b[0m 224ms/step - accuracy: 0.0335 - loss: 3.5075 - val_accuracy: 0.0208 - val_loss: 3.4903\n",
            "Epoch 5/5\n",
            "\u001b[1m19/19\u001b[0m \u001b[32m━━━━━━━━━━━━━━━━━━━━\u001b[0m\u001b[37m\u001b[0m \u001b[1m5s\u001b[0m 226ms/step - accuracy: 0.0283 - loss: 3.4978 - val_accuracy: 0.0208 - val_loss: 3.4721\n",
            "Epoch 1/5\n",
            "\u001b[1m19/19\u001b[0m \u001b[32m━━━━━━━━━━━━━━━━━━━━\u001b[0m\u001b[37m\u001b[0m \u001b[1m14s\u001b[0m 293ms/step - accuracy: 0.0250 - loss: 3.5254 - val_accuracy: 0.0417 - val_loss: 3.5254\n",
            "Epoch 2/5\n",
            "\u001b[1m19/19\u001b[0m \u001b[32m━━━━━━━━━━━━━━━━━━━━\u001b[0m\u001b[37m\u001b[0m \u001b[1m5s\u001b[0m 269ms/step - accuracy: 0.0359 - loss: 3.5198 - val_accuracy: 0.0417 - val_loss: 3.5206\n",
            "Epoch 3/5\n",
            "\u001b[1m19/19\u001b[0m \u001b[32m━━━━━━━━━━━━━━━━━━━━\u001b[0m\u001b[37m\u001b[0m \u001b[1m10s\u001b[0m 292ms/step - accuracy: 0.0381 - loss: 3.5127 - val_accuracy: 0.0417 - val_loss: 3.5136\n",
            "Epoch 4/5\n",
            "\u001b[1m19/19\u001b[0m \u001b[32m━━━━━━━━━━━━━━━━━━━━\u001b[0m\u001b[37m\u001b[0m \u001b[1m9s\u001b[0m 227ms/step - accuracy: 0.0309 - loss: 3.5035 - val_accuracy: 0.0417 - val_loss: 3.4989\n",
            "Epoch 5/5\n",
            "\u001b[1m19/19\u001b[0m \u001b[32m━━━━━━━━━━━━━━━━━━━━\u001b[0m\u001b[37m\u001b[0m \u001b[1m6s\u001b[0m 259ms/step - accuracy: 0.0372 - loss: 3.4775 - val_accuracy: 0.0417 - val_loss: 3.4795\n",
            "Epoch 1/5\n",
            "\u001b[1m19/19\u001b[0m \u001b[32m━━━━━━━━━━━━━━━━━━━━\u001b[0m\u001b[37m\u001b[0m \u001b[1m11s\u001b[0m 328ms/step - accuracy: 0.0366 - loss: 3.5259 - val_accuracy: 0.0312 - val_loss: 3.5228\n",
            "Epoch 2/5\n",
            "\u001b[1m19/19\u001b[0m \u001b[32m━━━━━━━━━━━━━━━━━━━━\u001b[0m\u001b[37m\u001b[0m \u001b[1m4s\u001b[0m 222ms/step - accuracy: 0.0273 - loss: 3.5222 - val_accuracy: 0.0312 - val_loss: 3.5180\n",
            "Epoch 3/5\n",
            "\u001b[1m19/19\u001b[0m \u001b[32m━━━━━━━━━━━━━━━━━━━━\u001b[0m\u001b[37m\u001b[0m \u001b[1m6s\u001b[0m 278ms/step - accuracy: 0.0355 - loss: 3.5164 - val_accuracy: 0.0312 - val_loss: 3.5130\n",
            "Epoch 4/5\n",
            "\u001b[1m19/19\u001b[0m \u001b[32m━━━━━━━━━━━━━━━━━━━━\u001b[0m\u001b[37m\u001b[0m \u001b[1m9s\u001b[0m 221ms/step - accuracy: 0.0245 - loss: 3.5123 - val_accuracy: 0.0208 - val_loss: 3.5078\n",
            "Epoch 5/5\n",
            "\u001b[1m19/19\u001b[0m \u001b[32m━━━━━━━━━━━━━━━━━━━━\u001b[0m\u001b[37m\u001b[0m \u001b[1m6s\u001b[0m 283ms/step - accuracy: 0.0245 - loss: 3.5085 - val_accuracy: 0.0208 - val_loss: 3.5021\n",
            "Epoch 1/5\n",
            "\u001b[1m19/19\u001b[0m \u001b[32m━━━━━━━━━━━━━━━━━━━━\u001b[0m\u001b[37m\u001b[0m \u001b[1m8s\u001b[0m 173ms/step - accuracy: 0.0360 - loss: 3.5257 - val_accuracy: 0.0312 - val_loss: 3.5241\n",
            "Epoch 2/5\n",
            "\u001b[1m19/19\u001b[0m \u001b[32m━━━━━━━━━━━━━━━━━━━━\u001b[0m\u001b[37m\u001b[0m \u001b[1m4s\u001b[0m 129ms/step - accuracy: 0.0240 - loss: 3.5216 - val_accuracy: 0.0312 - val_loss: 3.5216\n",
            "Epoch 3/5\n",
            "\u001b[1m19/19\u001b[0m \u001b[32m━━━━━━━━━━━━━━━━━━━━\u001b[0m\u001b[37m\u001b[0m \u001b[1m3s\u001b[0m 133ms/step - accuracy: 0.0332 - loss: 3.5173 - val_accuracy: 0.0312 - val_loss: 3.5192\n",
            "Epoch 4/5\n",
            "\u001b[1m19/19\u001b[0m \u001b[32m━━━━━━━━━━━━━━━━━━━━\u001b[0m\u001b[37m\u001b[0m \u001b[1m5s\u001b[0m 129ms/step - accuracy: 0.0339 - loss: 3.5111 - val_accuracy: 0.0312 - val_loss: 3.5141\n",
            "Epoch 5/5\n",
            "\u001b[1m19/19\u001b[0m \u001b[32m━━━━━━━━━━━━━━━━━━━━\u001b[0m\u001b[37m\u001b[0m \u001b[1m3s\u001b[0m 132ms/step - accuracy: 0.0243 - loss: 3.5057 - val_accuracy: 0.0312 - val_loss: 3.5097\n",
            "Epoch 1/5\n",
            "\u001b[1m19/19\u001b[0m \u001b[32m━━━━━━━━━━━━━━━━━━━━\u001b[0m\u001b[37m\u001b[0m \u001b[1m27s\u001b[0m 840ms/step - accuracy: 0.0341 - loss: 3.5249 - val_accuracy: 0.0521 - val_loss: 3.5192\n",
            "Epoch 2/5\n",
            "\u001b[1m19/19\u001b[0m \u001b[32m━━━━━━━━━━━━━━━━━━━━\u001b[0m\u001b[37m\u001b[0m \u001b[1m19s\u001b[0m 761ms/step - accuracy: 0.0371 - loss: 3.5158 - val_accuracy: 0.0521 - val_loss: 3.5093\n",
            "Epoch 3/5\n",
            "\u001b[1m19/19\u001b[0m \u001b[32m━━━━━━━━━━━━━━━━━━━━\u001b[0m\u001b[37m\u001b[0m \u001b[1m14s\u001b[0m 761ms/step - accuracy: 0.0279 - loss: 3.5082 - val_accuracy: 0.0521 - val_loss: 3.4976\n",
            "Epoch 4/5\n",
            "\u001b[1m19/19\u001b[0m \u001b[32m━━━━━━━━━━━━━━━━━━━━\u001b[0m\u001b[37m\u001b[0m \u001b[1m31s\u001b[0m 1s/step - accuracy: 0.0313 - loss: 3.4941 - val_accuracy: 0.0521 - val_loss: 3.4808\n",
            "Epoch 5/5\n",
            "\u001b[1m19/19\u001b[0m \u001b[32m━━━━━━━━━━━━━━━━━━━━\u001b[0m\u001b[37m\u001b[0m \u001b[1m31s\u001b[0m 773ms/step - accuracy: 0.0337 - loss: 3.4771 - val_accuracy: 0.0521 - val_loss: 3.4585\n"
          ]
        },
        {
          "output_type": "execute_result",
          "data": {
            "text/plain": [
              "<keras.src.callbacks.history.History at 0x7852e86aa310>"
            ]
          },
          "metadata": {},
          "execution_count": 33
        }
      ]
    },
    {
      "cell_type": "markdown",
      "source": [
        "### 5. Comparative Analysis of Models"
      ],
      "metadata": {
        "id": "zC_LpRWxT-h2"
      }
    },
    {
      "cell_type": "code",
      "source": [
        "y_true = y_test\n",
        "\n",
        "# Evaluate CNN model\n",
        "y_pred_cnn = cnn.predict(X_test_bow)\n",
        "y_pred_cnn = np.argmax(y_pred_cnn, axis=1)\n",
        "cnn_acc = accuracy_score(y_true, y_pred_cnn)\n",
        "print(\"CNN Accuracy:\", cnn_acc)\n",
        "print(\"CNN Classification Report:\\n\", classification_report(y_true, y_pred_cnn, zero_division=0))\n",
        "\n",
        "# Evaluate LSTM model\n",
        "y_pred_lstm = lstm.predict(X_test_bow)\n",
        "y_pred_lstm = np.argmax(y_pred_lstm, axis=1)\n",
        "lstm_acc = accuracy_score(y_true, y_pred_lstm)\n",
        "print(\"LSTM Accuracy:\", lstm_acc)\n",
        "print(\"LSTM Classification Report:\\n\", classification_report(y_true, y_pred_lstm, zero_division=0))\n",
        "\n",
        "# Evaluate CNN-BiLSTM model\n",
        "y_pred_cnn_bilstm = cnn_bilstm.predict(X_test_bow)\n",
        "y_pred_cnn_bilstm = np.argmax(y_pred_cnn_bilstm, axis=1)\n",
        "cnn_bilstm_acc = accuracy_score(y_true, y_pred_cnn_bilstm)\n",
        "print(\"CNN-BiLSTM Accuracy:\", cnn_bilstm_acc)\n",
        "print(\"CNN-BiLSTM Classification Report:\\n\", classification_report(y_true, y_pred_cnn_bilstm, zero_division=0))\n",
        "\n",
        "# Evaluate GRU model\n",
        "y_pred_gru = gru.predict(X_test_bow)\n",
        "y_pred_gru = np.argmax(y_pred_gru, axis=1)\n",
        "gru_acc = accuracy_score(y_true, y_pred_gru)\n",
        "print(\"GRU Accuracy:\", gru_acc)\n",
        "print(\"GRU Classification Report:\\n\", classification_report(y_true, y_pred_gru, zero_division=0))\n",
        "\n",
        "# Evaluate CNN-GRU model\n",
        "y_pred_cnn_gru = cnn_gru.predict(X_test_bow)\n",
        "y_pred_cnn_gru = np.argmax(y_pred_cnn_gru, axis=1)\n",
        "cnn_gru_acc = accuracy_score(y_true, y_pred_cnn_gru)\n",
        "print(\"CNN-GRU Accuracy:\", cnn_gru_acc)\n",
        "print(\"CNN-GRU Classification Report:\\n\", classification_report(y_true, y_pred_cnn_gru, zero_division=0))\n",
        "\n",
        "# Evaluate BiLSTM-GRU model\n",
        "y_pred_bilstm_gru = bilstm_gru.predict(X_test_bow)\n",
        "y_pred_bilstm_gru = np.argmax(y_pred_bilstm_gru, axis=1)\n",
        "bilstm_gru_acc = accuracy_score(y_true, y_pred_bilstm_gru)\n",
        "print(\"BiLSTM-GRU Accuracy:\", bilstm_gru_acc)\n",
        "print(\"BiLSTM-GRU Classification Report:\\n\", classification_report(y_true, y_pred_bilstm_gru, zero_division=0))"
      ],
      "metadata": {
        "colab": {
          "base_uri": "https://localhost:8080/"
        },
        "id": "4h-adNxreHC0",
        "outputId": "34a06c12-73ac-4ba6-8d00-97c1d8709809"
      },
      "execution_count": null,
      "outputs": [
        {
          "output_type": "stream",
          "name": "stdout",
          "text": [
            "\u001b[1m8/8\u001b[0m \u001b[32m━━━━━━━━━━━━━━━━━━━━\u001b[0m\u001b[37m\u001b[0m \u001b[1m0s\u001b[0m 30ms/step\n",
            "CNN Accuracy: 0.041666666666666664\n",
            "CNN Classification Report:\n",
            "               precision    recall  f1-score   support\n",
            "\n",
            "           0       0.00      0.00      0.00         7\n",
            "           1       0.00      0.00      0.00         5\n",
            "           2       0.00      0.00      0.00        10\n",
            "           3       0.00      0.00      0.00         7\n",
            "           4       0.00      0.00      0.00        11\n",
            "           5       0.00      0.00      0.00         9\n",
            "           6       0.00      0.00      0.00         8\n",
            "           7       0.00      0.00      0.00         9\n",
            "           8       0.00      0.00      0.00         8\n",
            "           9       0.00      0.00      0.00        11\n",
            "          10       0.00      0.00      0.00         9\n",
            "          11       0.00      0.00      0.00         3\n",
            "          12       0.00      0.00      0.00         9\n",
            "          13       0.00      0.00      0.00         9\n",
            "          14       0.00      0.00      0.00         5\n",
            "          15       0.00      0.00      0.00         7\n",
            "          16       0.00      0.00      0.00         7\n",
            "          17       0.00      0.00      0.00         8\n",
            "          18       0.00      0.00      0.00         8\n",
            "          19       0.00      0.00      0.00        11\n",
            "          20       0.00      0.00      0.00         8\n",
            "          21       0.00      0.00      0.00         6\n",
            "          22       0.00      0.00      0.00         4\n",
            "          23       0.00      0.00      0.00         6\n",
            "          24       0.04      1.00      0.08        10\n",
            "          25       0.00      0.00      0.00        10\n",
            "          26       0.00      0.00      0.00         9\n",
            "          27       0.00      0.00      0.00        11\n",
            "          28       0.00      0.00      0.00         7\n",
            "          29       0.00      0.00      0.00         8\n",
            "\n",
            "    accuracy                           0.04       240\n",
            "   macro avg       0.00      0.03      0.00       240\n",
            "weighted avg       0.00      0.04      0.00       240\n",
            "\n",
            "\u001b[1m8/8\u001b[0m \u001b[32m━━━━━━━━━━━━━━━━━━━━\u001b[0m\u001b[37m\u001b[0m \u001b[1m1s\u001b[0m 133ms/step\n",
            "LSTM Accuracy: 0.041666666666666664\n",
            "LSTM Classification Report:\n",
            "               precision    recall  f1-score   support\n",
            "\n",
            "           0       0.00      0.00      0.00         7\n",
            "           1       0.00      0.00      0.00         5\n",
            "           2       0.00      0.00      0.00        10\n",
            "           3       0.00      0.00      0.00         7\n",
            "           4       0.00      0.00      0.00        11\n",
            "           5       0.00      0.00      0.00         9\n",
            "           6       0.00      0.00      0.00         8\n",
            "           7       0.00      0.00      0.00         9\n",
            "           8       0.00      0.00      0.00         8\n",
            "           9       0.00      0.00      0.00        11\n",
            "          10       0.00      0.00      0.00         9\n",
            "          11       0.00      0.00      0.00         3\n",
            "          12       0.00      0.00      0.00         9\n",
            "          13       0.00      0.00      0.00         9\n",
            "          14       0.00      0.00      0.00         5\n",
            "          15       0.00      0.00      0.00         7\n",
            "          16       0.00      0.00      0.00         7\n",
            "          17       0.00      0.00      0.00         8\n",
            "          18       0.00      0.00      0.00         8\n",
            "          19       0.00      0.00      0.00        11\n",
            "          20       0.00      0.00      0.00         8\n",
            "          21       0.00      0.00      0.00         6\n",
            "          22       0.00      0.00      0.00         4\n",
            "          23       0.00      0.00      0.00         6\n",
            "          24       0.04      1.00      0.08        10\n",
            "          25       0.00      0.00      0.00        10\n",
            "          26       0.00      0.00      0.00         9\n",
            "          27       0.00      0.00      0.00        11\n",
            "          28       0.00      0.00      0.00         7\n",
            "          29       0.00      0.00      0.00         8\n",
            "\n",
            "    accuracy                           0.04       240\n",
            "   macro avg       0.00      0.03      0.00       240\n",
            "weighted avg       0.00      0.04      0.00       240\n",
            "\n",
            "\u001b[1m8/8\u001b[0m \u001b[32m━━━━━━━━━━━━━━━━━━━━\u001b[0m\u001b[37m\u001b[0m \u001b[1m1s\u001b[0m 111ms/step\n",
            "CNN-BiLSTM Accuracy: 0.029166666666666667\n",
            "CNN-BiLSTM Classification Report:\n",
            "               precision    recall  f1-score   support\n",
            "\n",
            "           0       0.03      1.00      0.06         7\n",
            "           1       0.00      0.00      0.00         5\n",
            "           2       0.00      0.00      0.00        10\n",
            "           3       0.00      0.00      0.00         7\n",
            "           4       0.00      0.00      0.00        11\n",
            "           5       0.00      0.00      0.00         9\n",
            "           6       0.00      0.00      0.00         8\n",
            "           7       0.00      0.00      0.00         9\n",
            "           8       0.00      0.00      0.00         8\n",
            "           9       0.00      0.00      0.00        11\n",
            "          10       0.00      0.00      0.00         9\n",
            "          11       0.00      0.00      0.00         3\n",
            "          12       0.00      0.00      0.00         9\n",
            "          13       0.00      0.00      0.00         9\n",
            "          14       0.00      0.00      0.00         5\n",
            "          15       0.00      0.00      0.00         7\n",
            "          16       0.00      0.00      0.00         7\n",
            "          17       0.00      0.00      0.00         8\n",
            "          18       0.00      0.00      0.00         8\n",
            "          19       0.00      0.00      0.00        11\n",
            "          20       0.00      0.00      0.00         8\n",
            "          21       0.00      0.00      0.00         6\n",
            "          22       0.00      0.00      0.00         4\n",
            "          23       0.00      0.00      0.00         6\n",
            "          24       0.00      0.00      0.00        10\n",
            "          25       0.00      0.00      0.00        10\n",
            "          26       0.00      0.00      0.00         9\n",
            "          27       0.00      0.00      0.00        11\n",
            "          28       0.00      0.00      0.00         7\n",
            "          29       0.00      0.00      0.00         8\n",
            "\n",
            "    accuracy                           0.03       240\n",
            "   macro avg       0.00      0.03      0.00       240\n",
            "weighted avg       0.00      0.03      0.00       240\n",
            "\n",
            "\u001b[1m8/8\u001b[0m \u001b[32m━━━━━━━━━━━━━━━━━━━━\u001b[0m\u001b[37m\u001b[0m \u001b[1m1s\u001b[0m 137ms/step\n",
            "GRU Accuracy: 0.029166666666666667\n",
            "GRU Classification Report:\n",
            "               precision    recall  f1-score   support\n",
            "\n",
            "           0       0.03      1.00      0.06         7\n",
            "           1       0.00      0.00      0.00         5\n",
            "           2       0.00      0.00      0.00        10\n",
            "           3       0.00      0.00      0.00         7\n",
            "           4       0.00      0.00      0.00        11\n",
            "           5       0.00      0.00      0.00         9\n",
            "           6       0.00      0.00      0.00         8\n",
            "           7       0.00      0.00      0.00         9\n",
            "           8       0.00      0.00      0.00         8\n",
            "           9       0.00      0.00      0.00        11\n",
            "          10       0.00      0.00      0.00         9\n",
            "          11       0.00      0.00      0.00         3\n",
            "          12       0.00      0.00      0.00         9\n",
            "          13       0.00      0.00      0.00         9\n",
            "          14       0.00      0.00      0.00         5\n",
            "          15       0.00      0.00      0.00         7\n",
            "          16       0.00      0.00      0.00         7\n",
            "          17       0.00      0.00      0.00         8\n",
            "          18       0.00      0.00      0.00         8\n",
            "          19       0.00      0.00      0.00        11\n",
            "          20       0.00      0.00      0.00         8\n",
            "          21       0.00      0.00      0.00         6\n",
            "          22       0.00      0.00      0.00         4\n",
            "          23       0.00      0.00      0.00         6\n",
            "          24       0.00      0.00      0.00        10\n",
            "          25       0.00      0.00      0.00        10\n",
            "          26       0.00      0.00      0.00         9\n",
            "          27       0.00      0.00      0.00        11\n",
            "          28       0.00      0.00      0.00         7\n",
            "          29       0.00      0.00      0.00         8\n",
            "\n",
            "    accuracy                           0.03       240\n",
            "   macro avg       0.00      0.03      0.00       240\n",
            "weighted avg       0.00      0.03      0.00       240\n",
            "\n",
            "\u001b[1m8/8\u001b[0m \u001b[32m━━━━━━━━━━━━━━━━━━━━\u001b[0m\u001b[37m\u001b[0m \u001b[1m0s\u001b[0m 34ms/step\n",
            "CNN-GRU Accuracy: 0.041666666666666664\n",
            "CNN-GRU Classification Report:\n",
            "               precision    recall  f1-score   support\n",
            "\n",
            "           0       0.00      0.00      0.00         7\n",
            "           1       0.00      0.00      0.00         5\n",
            "           2       0.04      1.00      0.08        10\n",
            "           3       0.00      0.00      0.00         7\n",
            "           4       0.00      0.00      0.00        11\n",
            "           5       0.00      0.00      0.00         9\n",
            "           6       0.00      0.00      0.00         8\n",
            "           7       0.00      0.00      0.00         9\n",
            "           8       0.00      0.00      0.00         8\n",
            "           9       0.00      0.00      0.00        11\n",
            "          10       0.00      0.00      0.00         9\n",
            "          11       0.00      0.00      0.00         3\n",
            "          12       0.00      0.00      0.00         9\n",
            "          13       0.00      0.00      0.00         9\n",
            "          14       0.00      0.00      0.00         5\n",
            "          15       0.00      0.00      0.00         7\n",
            "          16       0.00      0.00      0.00         7\n",
            "          17       0.00      0.00      0.00         8\n",
            "          18       0.00      0.00      0.00         8\n",
            "          19       0.00      0.00      0.00        11\n",
            "          20       0.00      0.00      0.00         8\n",
            "          21       0.00      0.00      0.00         6\n",
            "          22       0.00      0.00      0.00         4\n",
            "          23       0.00      0.00      0.00         6\n",
            "          24       0.00      0.00      0.00        10\n",
            "          25       0.00      0.00      0.00        10\n",
            "          26       0.00      0.00      0.00         9\n",
            "          27       0.00      0.00      0.00        11\n",
            "          28       0.00      0.00      0.00         7\n",
            "          29       0.00      0.00      0.00         8\n",
            "\n",
            "    accuracy                           0.04       240\n",
            "   macro avg       0.00      0.03      0.00       240\n",
            "weighted avg       0.00      0.04      0.00       240\n",
            "\n",
            "\u001b[1m8/8\u001b[0m \u001b[32m━━━━━━━━━━━━━━━━━━━━\u001b[0m\u001b[37m\u001b[0m \u001b[1m1s\u001b[0m 175ms/step\n",
            "BiLSTM-GRU Accuracy: 0.03333333333333333\n",
            "BiLSTM-GRU Classification Report:\n",
            "               precision    recall  f1-score   support\n",
            "\n",
            "           0       0.00      0.00      0.00         7\n",
            "           1       0.00      0.00      0.00         5\n",
            "           2       0.00      0.00      0.00        10\n",
            "           3       0.00      0.00      0.00         7\n",
            "           4       0.00      0.00      0.00        11\n",
            "           5       0.00      0.00      0.00         9\n",
            "           6       0.00      0.00      0.00         8\n",
            "           7       0.00      0.00      0.00         9\n",
            "           8       0.03      1.00      0.06         8\n",
            "           9       0.00      0.00      0.00        11\n",
            "          10       0.00      0.00      0.00         9\n",
            "          11       0.00      0.00      0.00         3\n",
            "          12       0.00      0.00      0.00         9\n",
            "          13       0.00      0.00      0.00         9\n",
            "          14       0.00      0.00      0.00         5\n",
            "          15       0.00      0.00      0.00         7\n",
            "          16       0.00      0.00      0.00         7\n",
            "          17       0.00      0.00      0.00         8\n",
            "          18       0.00      0.00      0.00         8\n",
            "          19       0.00      0.00      0.00        11\n",
            "          20       0.00      0.00      0.00         8\n",
            "          21       0.00      0.00      0.00         6\n",
            "          22       0.00      0.00      0.00         4\n",
            "          23       0.00      0.00      0.00         6\n",
            "          24       0.00      0.00      0.00        10\n",
            "          25       0.00      0.00      0.00        10\n",
            "          26       0.00      0.00      0.00         9\n",
            "          27       0.00      0.00      0.00        11\n",
            "          28       0.00      0.00      0.00         7\n",
            "          29       0.00      0.00      0.00         8\n",
            "\n",
            "    accuracy                           0.03       240\n",
            "   macro avg       0.00      0.03      0.00       240\n",
            "weighted avg       0.00      0.03      0.00       240\n",
            "\n"
          ]
        }
      ]
    },
    {
      "cell_type": "markdown",
      "source": [
        "### SECTION 6:  Saving the Best Model"
      ],
      "metadata": {
        "id": "EcbXDd1eegyv"
      }
    },
    {
      "cell_type": "code",
      "source": [
        "cnn.save('best_disease_model.h5')\n",
        "print(\"Best model saved as 'best_disease_model.h5'\")"
      ],
      "metadata": {
        "colab": {
          "base_uri": "https://localhost:8080/"
        },
        "id": "ickIOYEyell_",
        "outputId": "2aa2c83a-d9e7-42c6-efbd-0004290ce9ad"
      },
      "execution_count": null,
      "outputs": [
        {
          "output_type": "stream",
          "name": "stderr",
          "text": [
            "WARNING:absl:You are saving your model as an HDF5 file via `model.save()` or `keras.saving.save_model(model)`. This file format is considered legacy. We recommend using instead the native Keras format, e.g. `model.save('my_model.keras')` or `keras.saving.save_model(model, 'my_model.keras')`. \n"
          ]
        },
        {
          "output_type": "stream",
          "name": "stdout",
          "text": [
            "Best model saved as 'best_disease_model.h5'\n"
          ]
        }
      ]
    },
    {
      "cell_type": "markdown",
      "source": [
        "### 7. Prediction on Real-World Input"
      ],
      "metadata": {
        "id": "mJewQE_VhjiI"
      }
    },
    {
      "cell_type": "code",
      "source": [
        "model = load_model('best_disease_model.h5')\n",
        "\n",
        "bow_vectorizer = joblib.load('bow_vectorizer.pkl')\n",
        "\n",
        "label_encoder = joblib.load('label_encoder.pkl')\n",
        "\n",
        "def preprocess_text(text):\n",
        "    text = text.lower()\n",
        "    text = re.sub(r'[^a-zA-Z\\s]', '', text)\n",
        "    text = re.sub(r'\\s+', ' ', text).strip()\n",
        "    return text\n",
        "\n",
        "def predict_class(new_text):\n",
        "    processed_text = preprocess_text(new_text)\n",
        "    input_data = bow_vectorizer.transform([processed_text]).toarray()\n",
        "    predicted_probabilities = model.predict(input_data)\n",
        "    predicted_class = np.argmax(predicted_probabilities, axis=1)[0]\n",
        "    predicted_disease = label_encoder.inverse_transform([predicted_class])[0]\n",
        "    confidence_score = np.max(predicted_probabilities)\n",
        "    return predicted_disease, confidence_score, predicted_probabilities\n",
        "\n",
        "new_text = input(\"Enter your sample text: \")\n",
        "predicted_disease, confidence_score, predicted_probabilities = predict_class(new_text)\n",
        "\n",
        "print(f\"Processed Text: {preprocess_text(new_text)}\")\n",
        "print(f\"Predicted Disease: {predicted_disease}\")\n",
        "print(f\"Confidence Score: {confidence_score:.4f}\")\n",
        "#print(f\"Class Probabilities: {predicted_probabilities}\")"
      ],
      "metadata": {
        "colab": {
          "base_uri": "https://localhost:8080/"
        },
        "id": "4qY1IMj0jceJ",
        "outputId": "306703a5-c17e-47d3-ec02-399bef240fd4"
      },
      "execution_count": null,
      "outputs": [
        {
          "output_type": "stream",
          "name": "stderr",
          "text": [
            "WARNING:absl:Compiled the loaded model, but the compiled metrics have yet to be built. `model.compile_metrics` will be empty until you train or evaluate the model.\n"
          ]
        },
        {
          "output_type": "stream",
          "name": "stdout",
          "text": [
            "Enter your sample text:  i have noticed persistent persistent fever weight loss and night sweats for the past few weeks it has been affecting my daily routine making it difficult to sleep peacefully sometimes i also experience nausea the symptoms seem to fluctuate but overall they have been getting worse seeking medical attention seems necessary at this point \n",
            "\u001b[1m1/1\u001b[0m \u001b[32m━━━━━━━━━━━━━━━━━━━━\u001b[0m\u001b[37m\u001b[0m \u001b[1m0s\u001b[0m 85ms/step\n",
            "Processed Text: i have noticed persistent persistent fever weight loss and night sweats for the past few weeks it has been affecting my daily routine making it difficult to sleep peacefully sometimes i also experience nausea the symptoms seem to fluctuate but overall they have been getting worse seeking medical attention seems necessary at this point\n",
            "Predicted Disease: AIDS\n",
            "Confidence Score: 0.3267\n"
          ]
        }
      ]
    }
  ]
}