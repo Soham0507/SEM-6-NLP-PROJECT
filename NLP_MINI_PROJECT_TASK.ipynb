{
  "cells": [
    {
      "cell_type": "markdown",
      "source": [
        "GROUP MEMBERS:\n",
        "\n",
        "Deepak Nair(B_638)\n",
        "\n",
        "Soham Mhatre(B_637)\n",
        "\n",
        "Harish Nair(B_640)\n",
        "\n",
        "Dhanish Nair(B_639)"
      ],
      "metadata": {
        "id": "GDv3nk0kjTn5"
      }
    },
    {
      "cell_type": "markdown",
      "source": [
        "# **Section 1: Load the Dataset**"
      ],
      "metadata": {
        "id": "9m8kspG2lwpq"
      }
    },
    {
      "cell_type": "code",
      "execution_count": null,
      "metadata": {
        "colab": {
          "base_uri": "https://localhost:8080/",
          "height": 73
        },
        "id": "Ng-YkxwXma1x",
        "outputId": "0663228e-b99e-4ad3-9a38-bc86d4733778"
      },
      "outputs": [
        {
          "output_type": "display_data",
          "data": {
            "text/plain": [
              "<IPython.core.display.HTML object>"
            ],
            "text/html": [
              "\n",
              "     <input type=\"file\" id=\"files-22f2f7e4-3d26-4680-ae00-08ebe658662f\" name=\"files[]\" multiple disabled\n",
              "        style=\"border:none\" />\n",
              "     <output id=\"result-22f2f7e4-3d26-4680-ae00-08ebe658662f\">\n",
              "      Upload widget is only available when the cell has been executed in the\n",
              "      current browser session. Please rerun this cell to enable.\n",
              "      </output>\n",
              "      <script>// Copyright 2017 Google LLC\n",
              "//\n",
              "// Licensed under the Apache License, Version 2.0 (the \"License\");\n",
              "// you may not use this file except in compliance with the License.\n",
              "// You may obtain a copy of the License at\n",
              "//\n",
              "//      http://www.apache.org/licenses/LICENSE-2.0\n",
              "//\n",
              "// Unless required by applicable law or agreed to in writing, software\n",
              "// distributed under the License is distributed on an \"AS IS\" BASIS,\n",
              "// WITHOUT WARRANTIES OR CONDITIONS OF ANY KIND, either express or implied.\n",
              "// See the License for the specific language governing permissions and\n",
              "// limitations under the License.\n",
              "\n",
              "/**\n",
              " * @fileoverview Helpers for google.colab Python module.\n",
              " */\n",
              "(function(scope) {\n",
              "function span(text, styleAttributes = {}) {\n",
              "  const element = document.createElement('span');\n",
              "  element.textContent = text;\n",
              "  for (const key of Object.keys(styleAttributes)) {\n",
              "    element.style[key] = styleAttributes[key];\n",
              "  }\n",
              "  return element;\n",
              "}\n",
              "\n",
              "// Max number of bytes which will be uploaded at a time.\n",
              "const MAX_PAYLOAD_SIZE = 100 * 1024;\n",
              "\n",
              "function _uploadFiles(inputId, outputId) {\n",
              "  const steps = uploadFilesStep(inputId, outputId);\n",
              "  const outputElement = document.getElementById(outputId);\n",
              "  // Cache steps on the outputElement to make it available for the next call\n",
              "  // to uploadFilesContinue from Python.\n",
              "  outputElement.steps = steps;\n",
              "\n",
              "  return _uploadFilesContinue(outputId);\n",
              "}\n",
              "\n",
              "// This is roughly an async generator (not supported in the browser yet),\n",
              "// where there are multiple asynchronous steps and the Python side is going\n",
              "// to poll for completion of each step.\n",
              "// This uses a Promise to block the python side on completion of each step,\n",
              "// then passes the result of the previous step as the input to the next step.\n",
              "function _uploadFilesContinue(outputId) {\n",
              "  const outputElement = document.getElementById(outputId);\n",
              "  const steps = outputElement.steps;\n",
              "\n",
              "  const next = steps.next(outputElement.lastPromiseValue);\n",
              "  return Promise.resolve(next.value.promise).then((value) => {\n",
              "    // Cache the last promise value to make it available to the next\n",
              "    // step of the generator.\n",
              "    outputElement.lastPromiseValue = value;\n",
              "    return next.value.response;\n",
              "  });\n",
              "}\n",
              "\n",
              "/**\n",
              " * Generator function which is called between each async step of the upload\n",
              " * process.\n",
              " * @param {string} inputId Element ID of the input file picker element.\n",
              " * @param {string} outputId Element ID of the output display.\n",
              " * @return {!Iterable<!Object>} Iterable of next steps.\n",
              " */\n",
              "function* uploadFilesStep(inputId, outputId) {\n",
              "  const inputElement = document.getElementById(inputId);\n",
              "  inputElement.disabled = false;\n",
              "\n",
              "  const outputElement = document.getElementById(outputId);\n",
              "  outputElement.innerHTML = '';\n",
              "\n",
              "  const pickedPromise = new Promise((resolve) => {\n",
              "    inputElement.addEventListener('change', (e) => {\n",
              "      resolve(e.target.files);\n",
              "    });\n",
              "  });\n",
              "\n",
              "  const cancel = document.createElement('button');\n",
              "  inputElement.parentElement.appendChild(cancel);\n",
              "  cancel.textContent = 'Cancel upload';\n",
              "  const cancelPromise = new Promise((resolve) => {\n",
              "    cancel.onclick = () => {\n",
              "      resolve(null);\n",
              "    };\n",
              "  });\n",
              "\n",
              "  // Wait for the user to pick the files.\n",
              "  const files = yield {\n",
              "    promise: Promise.race([pickedPromise, cancelPromise]),\n",
              "    response: {\n",
              "      action: 'starting',\n",
              "    }\n",
              "  };\n",
              "\n",
              "  cancel.remove();\n",
              "\n",
              "  // Disable the input element since further picks are not allowed.\n",
              "  inputElement.disabled = true;\n",
              "\n",
              "  if (!files) {\n",
              "    return {\n",
              "      response: {\n",
              "        action: 'complete',\n",
              "      }\n",
              "    };\n",
              "  }\n",
              "\n",
              "  for (const file of files) {\n",
              "    const li = document.createElement('li');\n",
              "    li.append(span(file.name, {fontWeight: 'bold'}));\n",
              "    li.append(span(\n",
              "        `(${file.type || 'n/a'}) - ${file.size} bytes, ` +\n",
              "        `last modified: ${\n",
              "            file.lastModifiedDate ? file.lastModifiedDate.toLocaleDateString() :\n",
              "                                    'n/a'} - `));\n",
              "    const percent = span('0% done');\n",
              "    li.appendChild(percent);\n",
              "\n",
              "    outputElement.appendChild(li);\n",
              "\n",
              "    const fileDataPromise = new Promise((resolve) => {\n",
              "      const reader = new FileReader();\n",
              "      reader.onload = (e) => {\n",
              "        resolve(e.target.result);\n",
              "      };\n",
              "      reader.readAsArrayBuffer(file);\n",
              "    });\n",
              "    // Wait for the data to be ready.\n",
              "    let fileData = yield {\n",
              "      promise: fileDataPromise,\n",
              "      response: {\n",
              "        action: 'continue',\n",
              "      }\n",
              "    };\n",
              "\n",
              "    // Use a chunked sending to avoid message size limits. See b/62115660.\n",
              "    let position = 0;\n",
              "    do {\n",
              "      const length = Math.min(fileData.byteLength - position, MAX_PAYLOAD_SIZE);\n",
              "      const chunk = new Uint8Array(fileData, position, length);\n",
              "      position += length;\n",
              "\n",
              "      const base64 = btoa(String.fromCharCode.apply(null, chunk));\n",
              "      yield {\n",
              "        response: {\n",
              "          action: 'append',\n",
              "          file: file.name,\n",
              "          data: base64,\n",
              "        },\n",
              "      };\n",
              "\n",
              "      let percentDone = fileData.byteLength === 0 ?\n",
              "          100 :\n",
              "          Math.round((position / fileData.byteLength) * 100);\n",
              "      percent.textContent = `${percentDone}% done`;\n",
              "\n",
              "    } while (position < fileData.byteLength);\n",
              "  }\n",
              "\n",
              "  // All done.\n",
              "  yield {\n",
              "    response: {\n",
              "      action: 'complete',\n",
              "    }\n",
              "  };\n",
              "}\n",
              "\n",
              "scope.google = scope.google || {};\n",
              "scope.google.colab = scope.google.colab || {};\n",
              "scope.google.colab._files = {\n",
              "  _uploadFiles,\n",
              "  _uploadFilesContinue,\n",
              "};\n",
              "})(self);\n",
              "</script> "
            ]
          },
          "metadata": {}
        },
        {
          "output_type": "stream",
          "name": "stdout",
          "text": [
            "Saving NLP_Project_dataset - Extended_NLP_Project_dataset.csv to NLP_Project_dataset - Extended_NLP_Project_dataset.csv\n"
          ]
        }
      ],
      "source": [
        "from google.colab import files\n",
        "uploaded = files.upload()"
      ]
    },
    {
      "cell_type": "code",
      "execution_count": null,
      "metadata": {
        "colab": {
          "base_uri": "https://localhost:8080/"
        },
        "id": "myzG0UrOoUsv",
        "outputId": "94d4288d-d708-4564-ccc1-b39287530ba9",
        "collapsed": true
      },
      "outputs": [
        {
          "output_type": "stream",
          "name": "stdout",
          "text": [
            "Collecting fasttext\n",
            "  Downloading fasttext-0.9.3.tar.gz (73 kB)\n",
            "\u001b[?25l     \u001b[90m━━━━━━━━━━━━━━━━━━━━━━━━━━━━━━━━━━━━━━━━\u001b[0m \u001b[32m0.0/73.4 kB\u001b[0m \u001b[31m?\u001b[0m eta \u001b[36m-:--:--\u001b[0m\r\u001b[2K     \u001b[90m━━━━━━━━━━━━━━━━━━━━━━━━━━━━━━━━━━━━━━━━\u001b[0m \u001b[32m73.4/73.4 kB\u001b[0m \u001b[31m3.1 MB/s\u001b[0m eta \u001b[36m0:00:00\u001b[0m\n",
            "\u001b[?25h  Installing build dependencies ... \u001b[?25l\u001b[?25hdone\n",
            "  Getting requirements to build wheel ... \u001b[?25l\u001b[?25hdone\n",
            "  Preparing metadata (pyproject.toml) ... \u001b[?25l\u001b[?25hdone\n",
            "Collecting pybind11>=2.2 (from fasttext)\n",
            "  Using cached pybind11-2.13.6-py3-none-any.whl.metadata (9.5 kB)\n",
            "Requirement already satisfied: setuptools>=0.7.0 in /usr/local/lib/python3.11/dist-packages (from fasttext) (75.1.0)\n",
            "Requirement already satisfied: numpy in /usr/local/lib/python3.11/dist-packages (from fasttext) (1.26.4)\n",
            "Using cached pybind11-2.13.6-py3-none-any.whl (243 kB)\n",
            "Building wheels for collected packages: fasttext\n",
            "  Building wheel for fasttext (pyproject.toml) ... \u001b[?25l\u001b[?25hdone\n",
            "  Created wheel for fasttext: filename=fasttext-0.9.3-cp311-cp311-linux_x86_64.whl size=4313470 sha256=2c7c471ba0f37f40474f76f04b33b6d4829f9b51917f650a156bc3254ac68ee7\n",
            "  Stored in directory: /root/.cache/pip/wheels/65/4f/35/5057db0249224e9ab55a513fa6b79451473ceb7713017823c3\n",
            "Successfully built fasttext\n",
            "Installing collected packages: pybind11, fasttext\n",
            "Successfully installed fasttext-0.9.3 pybind11-2.13.6\n"
          ]
        }
      ],
      "source": [
        "!pip install fasttext"
      ]
    },
    {
      "cell_type": "code",
      "source": [
        "import pandas as pd\n",
        "import numpy as np\n",
        "import re\n",
        "import nltk\n",
        "import fasttext.util\n",
        "import joblib\n",
        "import matplotlib.pyplot as plt\n",
        "import seaborn as sns\n",
        "from nltk.corpus import stopwords\n",
        "from sklearn.feature_extraction.text import CountVectorizer, TfidfVectorizer\n",
        "from sklearn.model_selection import train_test_split\n",
        "from sklearn.ensemble import RandomForestClassifier\n",
        "from sklearn.linear_model import LogisticRegression\n",
        "from sklearn.svm import SVC\n",
        "from sklearn.metrics import accuracy_score, classification_report\n",
        "from scipy.sparse import hstack\n",
        "from sklearn.preprocessing import LabelEncoder"
      ],
      "metadata": {
        "id": "HQriN9Bf2NFT"
      },
      "execution_count": null,
      "outputs": []
    },
    {
      "cell_type": "code",
      "execution_count": null,
      "metadata": {
        "colab": {
          "base_uri": "https://localhost:8080/",
          "height": 206
        },
        "id": "hP61rOMmlelA",
        "outputId": "eba60280-2b0e-4007-acd3-60a57037337e"
      },
      "outputs": [
        {
          "output_type": "execute_result",
          "data": {
            "text/plain": [
              "            Disease                                        Description\n",
              "0  Fungal Infection  Lately, I have been experiencing symptoms such...\n",
              "1  Fungal Infection  I have noticed persistent painful blisters, pe...\n",
              "2  Fungal Infection  I have noticed persistent itchy patches, redne...\n",
              "3  Fungal Infection  I have noticed persistent itchy patches, redne...\n",
              "4  Fungal Infection  Lately, I have been experiencing symptoms such..."
            ],
            "text/html": [
              "\n",
              "  <div id=\"df-1fbaee56-a407-40c9-9e29-c645aefa6299\" class=\"colab-df-container\">\n",
              "    <div>\n",
              "<style scoped>\n",
              "    .dataframe tbody tr th:only-of-type {\n",
              "        vertical-align: middle;\n",
              "    }\n",
              "\n",
              "    .dataframe tbody tr th {\n",
              "        vertical-align: top;\n",
              "    }\n",
              "\n",
              "    .dataframe thead th {\n",
              "        text-align: right;\n",
              "    }\n",
              "</style>\n",
              "<table border=\"1\" class=\"dataframe\">\n",
              "  <thead>\n",
              "    <tr style=\"text-align: right;\">\n",
              "      <th></th>\n",
              "      <th>Disease</th>\n",
              "      <th>Description</th>\n",
              "    </tr>\n",
              "  </thead>\n",
              "  <tbody>\n",
              "    <tr>\n",
              "      <th>0</th>\n",
              "      <td>Fungal Infection</td>\n",
              "      <td>Lately, I have been experiencing symptoms such...</td>\n",
              "    </tr>\n",
              "    <tr>\n",
              "      <th>1</th>\n",
              "      <td>Fungal Infection</td>\n",
              "      <td>I have noticed persistent painful blisters, pe...</td>\n",
              "    </tr>\n",
              "    <tr>\n",
              "      <th>2</th>\n",
              "      <td>Fungal Infection</td>\n",
              "      <td>I have noticed persistent itchy patches, redne...</td>\n",
              "    </tr>\n",
              "    <tr>\n",
              "      <th>3</th>\n",
              "      <td>Fungal Infection</td>\n",
              "      <td>I have noticed persistent itchy patches, redne...</td>\n",
              "    </tr>\n",
              "    <tr>\n",
              "      <th>4</th>\n",
              "      <td>Fungal Infection</td>\n",
              "      <td>Lately, I have been experiencing symptoms such...</td>\n",
              "    </tr>\n",
              "  </tbody>\n",
              "</table>\n",
              "</div>\n",
              "    <div class=\"colab-df-buttons\">\n",
              "\n",
              "  <div class=\"colab-df-container\">\n",
              "    <button class=\"colab-df-convert\" onclick=\"convertToInteractive('df-1fbaee56-a407-40c9-9e29-c645aefa6299')\"\n",
              "            title=\"Convert this dataframe to an interactive table.\"\n",
              "            style=\"display:none;\">\n",
              "\n",
              "  <svg xmlns=\"http://www.w3.org/2000/svg\" height=\"24px\" viewBox=\"0 -960 960 960\">\n",
              "    <path d=\"M120-120v-720h720v720H120Zm60-500h600v-160H180v160Zm220 220h160v-160H400v160Zm0 220h160v-160H400v160ZM180-400h160v-160H180v160Zm440 0h160v-160H620v160ZM180-180h160v-160H180v160Zm440 0h160v-160H620v160Z\"/>\n",
              "  </svg>\n",
              "    </button>\n",
              "\n",
              "  <style>\n",
              "    .colab-df-container {\n",
              "      display:flex;\n",
              "      gap: 12px;\n",
              "    }\n",
              "\n",
              "    .colab-df-convert {\n",
              "      background-color: #E8F0FE;\n",
              "      border: none;\n",
              "      border-radius: 50%;\n",
              "      cursor: pointer;\n",
              "      display: none;\n",
              "      fill: #1967D2;\n",
              "      height: 32px;\n",
              "      padding: 0 0 0 0;\n",
              "      width: 32px;\n",
              "    }\n",
              "\n",
              "    .colab-df-convert:hover {\n",
              "      background-color: #E2EBFA;\n",
              "      box-shadow: 0px 1px 2px rgba(60, 64, 67, 0.3), 0px 1px 3px 1px rgba(60, 64, 67, 0.15);\n",
              "      fill: #174EA6;\n",
              "    }\n",
              "\n",
              "    .colab-df-buttons div {\n",
              "      margin-bottom: 4px;\n",
              "    }\n",
              "\n",
              "    [theme=dark] .colab-df-convert {\n",
              "      background-color: #3B4455;\n",
              "      fill: #D2E3FC;\n",
              "    }\n",
              "\n",
              "    [theme=dark] .colab-df-convert:hover {\n",
              "      background-color: #434B5C;\n",
              "      box-shadow: 0px 1px 3px 1px rgba(0, 0, 0, 0.15);\n",
              "      filter: drop-shadow(0px 1px 2px rgba(0, 0, 0, 0.3));\n",
              "      fill: #FFFFFF;\n",
              "    }\n",
              "  </style>\n",
              "\n",
              "    <script>\n",
              "      const buttonEl =\n",
              "        document.querySelector('#df-1fbaee56-a407-40c9-9e29-c645aefa6299 button.colab-df-convert');\n",
              "      buttonEl.style.display =\n",
              "        google.colab.kernel.accessAllowed ? 'block' : 'none';\n",
              "\n",
              "      async function convertToInteractive(key) {\n",
              "        const element = document.querySelector('#df-1fbaee56-a407-40c9-9e29-c645aefa6299');\n",
              "        const dataTable =\n",
              "          await google.colab.kernel.invokeFunction('convertToInteractive',\n",
              "                                                    [key], {});\n",
              "        if (!dataTable) return;\n",
              "\n",
              "        const docLinkHtml = 'Like what you see? Visit the ' +\n",
              "          '<a target=\"_blank\" href=https://colab.research.google.com/notebooks/data_table.ipynb>data table notebook</a>'\n",
              "          + ' to learn more about interactive tables.';\n",
              "        element.innerHTML = '';\n",
              "        dataTable['output_type'] = 'display_data';\n",
              "        await google.colab.output.renderOutput(dataTable, element);\n",
              "        const docLink = document.createElement('div');\n",
              "        docLink.innerHTML = docLinkHtml;\n",
              "        element.appendChild(docLink);\n",
              "      }\n",
              "    </script>\n",
              "  </div>\n",
              "\n",
              "\n",
              "<div id=\"df-ee345c32-8898-4a36-93fd-0dd5572656f8\">\n",
              "  <button class=\"colab-df-quickchart\" onclick=\"quickchart('df-ee345c32-8898-4a36-93fd-0dd5572656f8')\"\n",
              "            title=\"Suggest charts\"\n",
              "            style=\"display:none;\">\n",
              "\n",
              "<svg xmlns=\"http://www.w3.org/2000/svg\" height=\"24px\"viewBox=\"0 0 24 24\"\n",
              "     width=\"24px\">\n",
              "    <g>\n",
              "        <path d=\"M19 3H5c-1.1 0-2 .9-2 2v14c0 1.1.9 2 2 2h14c1.1 0 2-.9 2-2V5c0-1.1-.9-2-2-2zM9 17H7v-7h2v7zm4 0h-2V7h2v10zm4 0h-2v-4h2v4z\"/>\n",
              "    </g>\n",
              "</svg>\n",
              "  </button>\n",
              "\n",
              "<style>\n",
              "  .colab-df-quickchart {\n",
              "      --bg-color: #E8F0FE;\n",
              "      --fill-color: #1967D2;\n",
              "      --hover-bg-color: #E2EBFA;\n",
              "      --hover-fill-color: #174EA6;\n",
              "      --disabled-fill-color: #AAA;\n",
              "      --disabled-bg-color: #DDD;\n",
              "  }\n",
              "\n",
              "  [theme=dark] .colab-df-quickchart {\n",
              "      --bg-color: #3B4455;\n",
              "      --fill-color: #D2E3FC;\n",
              "      --hover-bg-color: #434B5C;\n",
              "      --hover-fill-color: #FFFFFF;\n",
              "      --disabled-bg-color: #3B4455;\n",
              "      --disabled-fill-color: #666;\n",
              "  }\n",
              "\n",
              "  .colab-df-quickchart {\n",
              "    background-color: var(--bg-color);\n",
              "    border: none;\n",
              "    border-radius: 50%;\n",
              "    cursor: pointer;\n",
              "    display: none;\n",
              "    fill: var(--fill-color);\n",
              "    height: 32px;\n",
              "    padding: 0;\n",
              "    width: 32px;\n",
              "  }\n",
              "\n",
              "  .colab-df-quickchart:hover {\n",
              "    background-color: var(--hover-bg-color);\n",
              "    box-shadow: 0 1px 2px rgba(60, 64, 67, 0.3), 0 1px 3px 1px rgba(60, 64, 67, 0.15);\n",
              "    fill: var(--button-hover-fill-color);\n",
              "  }\n",
              "\n",
              "  .colab-df-quickchart-complete:disabled,\n",
              "  .colab-df-quickchart-complete:disabled:hover {\n",
              "    background-color: var(--disabled-bg-color);\n",
              "    fill: var(--disabled-fill-color);\n",
              "    box-shadow: none;\n",
              "  }\n",
              "\n",
              "  .colab-df-spinner {\n",
              "    border: 2px solid var(--fill-color);\n",
              "    border-color: transparent;\n",
              "    border-bottom-color: var(--fill-color);\n",
              "    animation:\n",
              "      spin 1s steps(1) infinite;\n",
              "  }\n",
              "\n",
              "  @keyframes spin {\n",
              "    0% {\n",
              "      border-color: transparent;\n",
              "      border-bottom-color: var(--fill-color);\n",
              "      border-left-color: var(--fill-color);\n",
              "    }\n",
              "    20% {\n",
              "      border-color: transparent;\n",
              "      border-left-color: var(--fill-color);\n",
              "      border-top-color: var(--fill-color);\n",
              "    }\n",
              "    30% {\n",
              "      border-color: transparent;\n",
              "      border-left-color: var(--fill-color);\n",
              "      border-top-color: var(--fill-color);\n",
              "      border-right-color: var(--fill-color);\n",
              "    }\n",
              "    40% {\n",
              "      border-color: transparent;\n",
              "      border-right-color: var(--fill-color);\n",
              "      border-top-color: var(--fill-color);\n",
              "    }\n",
              "    60% {\n",
              "      border-color: transparent;\n",
              "      border-right-color: var(--fill-color);\n",
              "    }\n",
              "    80% {\n",
              "      border-color: transparent;\n",
              "      border-right-color: var(--fill-color);\n",
              "      border-bottom-color: var(--fill-color);\n",
              "    }\n",
              "    90% {\n",
              "      border-color: transparent;\n",
              "      border-bottom-color: var(--fill-color);\n",
              "    }\n",
              "  }\n",
              "</style>\n",
              "\n",
              "  <script>\n",
              "    async function quickchart(key) {\n",
              "      const quickchartButtonEl =\n",
              "        document.querySelector('#' + key + ' button');\n",
              "      quickchartButtonEl.disabled = true;  // To prevent multiple clicks.\n",
              "      quickchartButtonEl.classList.add('colab-df-spinner');\n",
              "      try {\n",
              "        const charts = await google.colab.kernel.invokeFunction(\n",
              "            'suggestCharts', [key], {});\n",
              "      } catch (error) {\n",
              "        console.error('Error during call to suggestCharts:', error);\n",
              "      }\n",
              "      quickchartButtonEl.classList.remove('colab-df-spinner');\n",
              "      quickchartButtonEl.classList.add('colab-df-quickchart-complete');\n",
              "    }\n",
              "    (() => {\n",
              "      let quickchartButtonEl =\n",
              "        document.querySelector('#df-ee345c32-8898-4a36-93fd-0dd5572656f8 button');\n",
              "      quickchartButtonEl.style.display =\n",
              "        google.colab.kernel.accessAllowed ? 'block' : 'none';\n",
              "    })();\n",
              "  </script>\n",
              "</div>\n",
              "\n",
              "    </div>\n",
              "  </div>\n"
            ],
            "application/vnd.google.colaboratory.intrinsic+json": {
              "type": "dataframe",
              "variable_name": "train",
              "summary": "{\n  \"name\": \"train\",\n  \"rows\": 1200,\n  \"fields\": [\n    {\n      \"column\": \"Disease\",\n      \"properties\": {\n        \"dtype\": \"category\",\n        \"num_unique_values\": 30,\n        \"samples\": [\n          \"Arthritis\",\n          \"Chicken Pox\",\n          \"Cold\"\n        ],\n        \"semantic_type\": \"\",\n        \"description\": \"\"\n      }\n    },\n    {\n      \"column\": \"Description\",\n      \"properties\": {\n        \"dtype\": \"string\",\n        \"num_unique_values\": 947,\n        \"samples\": [\n          \"Lately, I have been experiencing symptoms such as loss of appetite, fever, and fatigue. It started mildly, but over time, it has worsened. I often feel frustrated and struggle with concentrate at work. The discomfort makes it hard to walk for long periods. I am concerned about these symptoms and hope to find relief soon.\",\n          \"I have noticed persistent burning sensation while urinating, frequent urge to urinate, and pelvic pain for the past few weeks. It has been affecting my daily routine, making it difficult to exercise without discomfort. Sometimes, I also experience nausea. The symptoms seem to fluctuate, but overall, they have been getting worse. Seeking medical attention seems necessary at this point.\",\n          \"I have noticed persistent nausea, dizziness, and severe itching for the past few weeks. It has been affecting my daily routine, making it difficult to walk for long periods. Sometimes, I also experience loss of appetite. The symptoms seem to fluctuate, but overall, they have been getting worse. Seeking medical attention seems necessary at this point.\"\n        ],\n        \"semantic_type\": \"\",\n        \"description\": \"\"\n      }\n    }\n  ]\n}"
            }
          },
          "metadata": {},
          "execution_count": 7
        }
      ],
      "source": [
        "train = pd.read_csv(\"Extended_NLP_Project_dataset.csv\")\n",
        "train.head()"
      ]
    },
    {
      "cell_type": "markdown",
      "metadata": {
        "id": "wnUbRw7HnEoY"
      },
      "source": [
        "# **SECTION: 2 Perform Exploratory Data Analysis**"
      ]
    },
    {
      "cell_type": "code",
      "execution_count": null,
      "metadata": {
        "colab": {
          "base_uri": "https://localhost:8080/",
          "height": 925
        },
        "id": "-8LWLPNGnCrN",
        "outputId": "6275529c-4091-4b0a-be2f-1d579cb07090"
      },
      "outputs": [
        {
          "output_type": "stream",
          "name": "stdout",
          "text": [
            "<class 'pandas.core.frame.DataFrame'>\n",
            "RangeIndex: 1200 entries, 0 to 1199\n",
            "Data columns (total 2 columns):\n",
            " #   Column       Non-Null Count  Dtype \n",
            "---  ------       --------------  ----- \n",
            " 0   Disease      1200 non-null   object\n",
            " 1   Description  1200 non-null   object\n",
            "dtypes: object(2)\n",
            "memory usage: 18.9+ KB\n",
            "None\n",
            "                 Disease                                        Description\n",
            "count               1200                                               1200\n",
            "unique                30                                                947\n",
            "top     Fungal Infection  For the past few days, I have been suffering f...\n",
            "freq                  40                                                  5\n"
          ]
        },
        {
          "output_type": "display_data",
          "data": {
            "text/plain": [
              "<Figure size 640x480 with 1 Axes>"
            ],
            "image/png": "[encoded data removed]"
          },
          "metadata": {}
        },
        {
          "output_type": "stream",
          "name": "stdout",
          "text": [
            "Disease        0\n",
            "Description    0\n",
            "dtype: int64\n"
          ]
        }
      ],
      "source": [
        "print(train.info())\n",
        "print(train.describe())\n",
        "sns.countplot(x='Disease', data=train)\n",
        "plt.xticks(rotation=90)\n",
        "plt.title(\"Class Distribution\")\n",
        "plt.show()\n",
        "print(train.isnull().sum())"
      ]
    },
    {
      "cell_type": "code",
      "source": [
        "class_distribution = train['Disease'].value_counts()\n",
        "plt.figure(figsize=(6, 6))\n",
        "plt.pie(class_distribution, labels=class_distribution.index, autopct='%1.1f%%', startangle=140)\n",
        "plt.title(\"Class Distribution\")\n",
        "plt.show()"
      ],
      "metadata": {
        "colab": {
          "base_uri": "https://localhost:8080/",
          "height": 521
        },
        "id": "egbX6jg9LldL",
        "outputId": "33ff3111-9633-42f8-d94b-ce31dd7f4845"
      },
      "execution_count": null,
      "outputs": [
        {
          "output_type": "display_data",
          "data": {
            "text/plain": [
              "<Figure size 600x600 with 1 Axes>"
            ],
            "image/png": "[encoded data removed]"
          },
          "metadata": {}
        }
      ]
    },
    {
      "cell_type": "markdown",
      "metadata": {
        "id": "M_24-2Hpnctu"
      },
      "source": [
        "# **Section 3: Perform Text Processing on Dataset**"
      ]
    },
    {
      "cell_type": "code",
      "execution_count": null,
      "metadata": {
        "colab": {
          "base_uri": "https://localhost:8080/",
          "height": 327
        },
        "id": "SK4ADrT_nf4L",
        "outputId": "a072d510-046c-470c-ebac-618f5c11c6fa"
      },
      "outputs": [
        {
          "output_type": "stream",
          "name": "stderr",
          "text": [
            "[nltk_data] Downloading package stopwords to /root/nltk_data...\n",
            "[nltk_data]   Package stopwords is already up-to-date!\n"
          ]
        },
        {
          "output_type": "execute_result",
          "data": {
            "text/plain": [
              "                                         Description  \\\n",
              "0  Lately, I have been experiencing symptoms such...   \n",
              "1  I have noticed persistent painful blisters, pe...   \n",
              "2  I have noticed persistent itchy patches, redne...   \n",
              "3  I have noticed persistent itchy patches, redne...   \n",
              "4  Lately, I have been experiencing symptoms such...   \n",
              "\n",
              "                                        cleaned_text  \n",
              "0  lately i have been experiencing symptoms such ...  \n",
              "1  i have noticed persistent painful blisters pee...  \n",
              "2  i have noticed persistent itchy patches rednes...  \n",
              "3  i have noticed persistent itchy patches rednes...  \n",
              "4  lately i have been experiencing symptoms such ...  "
            ],
            "text/html": [
              "\n",
              "  <div id=\"df-d4cd899b-d41c-4184-b681-555b20e90108\" class=\"colab-df-container\">\n",
              "    <div>\n",
              "<style scoped>\n",
              "    .dataframe tbody tr th:only-of-type {\n",
              "        vertical-align: middle;\n",
              "    }\n",
              "\n",
              "    .dataframe tbody tr th {\n",
              "        vertical-align: top;\n",
              "    }\n",
              "\n",
              "    .dataframe thead th {\n",
              "        text-align: right;\n",
              "    }\n",
              "</style>\n",
              "<table border=\"1\" class=\"dataframe\">\n",
              "  <thead>\n",
              "    <tr style=\"text-align: right;\">\n",
              "      <th></th>\n",
              "      <th>Description</th>\n",
              "      <th>cleaned_text</th>\n",
              "    </tr>\n",
              "  </thead>\n",
              "  <tbody>\n",
              "    <tr>\n",
              "      <th>0</th>\n",
              "      <td>Lately, I have been experiencing symptoms such...</td>\n",
              "      <td>lately i have been experiencing symptoms such ...</td>\n",
              "    </tr>\n",
              "    <tr>\n",
              "      <th>1</th>\n",
              "      <td>I have noticed persistent painful blisters, pe...</td>\n",
              "      <td>i have noticed persistent painful blisters pee...</td>\n",
              "    </tr>\n",
              "    <tr>\n",
              "      <th>2</th>\n",
              "      <td>I have noticed persistent itchy patches, redne...</td>\n",
              "      <td>i have noticed persistent itchy patches rednes...</td>\n",
              "    </tr>\n",
              "    <tr>\n",
              "      <th>3</th>\n",
              "      <td>I have noticed persistent itchy patches, redne...</td>\n",
              "      <td>i have noticed persistent itchy patches rednes...</td>\n",
              "    </tr>\n",
              "    <tr>\n",
              "      <th>4</th>\n",
              "      <td>Lately, I have been experiencing symptoms such...</td>\n",
              "      <td>lately i have been experiencing symptoms such ...</td>\n",
              "    </tr>\n",
              "  </tbody>\n",
              "</table>\n",
              "</div>\n",
              "    <div class=\"colab-df-buttons\">\n",
              "\n",
              "  <div class=\"colab-df-container\">\n",
              "    <button class=\"colab-df-convert\" onclick=\"convertToInteractive('df-d4cd899b-d41c-4184-b681-555b20e90108')\"\n",
              "            title=\"Convert this dataframe to an interactive table.\"\n",
              "            style=\"display:none;\">\n",
              "\n",
              "  <svg xmlns=\"http://www.w3.org/2000/svg\" height=\"24px\" viewBox=\"0 -960 960 960\">\n",
              "    <path d=\"M120-120v-720h720v720H120Zm60-500h600v-160H180v160Zm220 220h160v-160H400v160Zm0 220h160v-160H400v160ZM180-400h160v-160H180v160Zm440 0h160v-160H620v160ZM180-180h160v-160H180v160Zm440 0h160v-160H620v160Z\"/>\n",
              "  </svg>\n",
              "    </button>\n",
              "\n",
              "  <style>\n",
              "    .colab-df-container {\n",
              "      display:flex;\n",
              "      gap: 12px;\n",
              "    }\n",
              "\n",
              "    .colab-df-convert {\n",
              "      background-color: #E8F0FE;\n",
              "      border: none;\n",
              "      border-radius: 50%;\n",
              "      cursor: pointer;\n",
              "      display: none;\n",
              "      fill: #1967D2;\n",
              "      height: 32px;\n",
              "      padding: 0 0 0 0;\n",
              "      width: 32px;\n",
              "    }\n",
              "\n",
              "    .colab-df-convert:hover {\n",
              "      background-color: #E2EBFA;\n",
              "      box-shadow: 0px 1px 2px rgba(60, 64, 67, 0.3), 0px 1px 3px 1px rgba(60, 64, 67, 0.15);\n",
              "      fill: #174EA6;\n",
              "    }\n",
              "\n",
              "    .colab-df-buttons div {\n",
              "      margin-bottom: 4px;\n",
              "    }\n",
              "\n",
              "    [theme=dark] .colab-df-convert {\n",
              "      background-color: #3B4455;\n",
              "      fill: #D2E3FC;\n",
              "    }\n",
              "\n",
              "    [theme=dark] .colab-df-convert:hover {\n",
              "      background-color: #434B5C;\n",
              "      box-shadow: 0px 1px 3px 1px rgba(0, 0, 0, 0.15);\n",
              "      filter: drop-shadow(0px 1px 2px rgba(0, 0, 0, 0.3));\n",
              "      fill: #FFFFFF;\n",
              "    }\n",
              "  </style>\n",
              "\n",
              "    <script>\n",
              "      const buttonEl =\n",
              "        document.querySelector('#df-d4cd899b-d41c-4184-b681-555b20e90108 button.colab-df-convert');\n",
              "      buttonEl.style.display =\n",
              "        google.colab.kernel.accessAllowed ? 'block' : 'none';\n",
              "\n",
              "      async function convertToInteractive(key) {\n",
              "        const element = document.querySelector('#df-d4cd899b-d41c-4184-b681-555b20e90108');\n",
              "        const dataTable =\n",
              "          await google.colab.kernel.invokeFunction('convertToInteractive',\n",
              "                                                    [key], {});\n",
              "        if (!dataTable) return;\n",
              "\n",
              "        const docLinkHtml = 'Like what you see? Visit the ' +\n",
              "          '<a target=\"_blank\" href=https://colab.research.google.com/notebooks/data_table.ipynb>data table notebook</a>'\n",
              "          + ' to learn more about interactive tables.';\n",
              "        element.innerHTML = '';\n",
              "        dataTable['output_type'] = 'display_data';\n",
              "        await google.colab.output.renderOutput(dataTable, element);\n",
              "        const docLink = document.createElement('div');\n",
              "        docLink.innerHTML = docLinkHtml;\n",
              "        element.appendChild(docLink);\n",
              "      }\n",
              "    </script>\n",
              "  </div>\n",
              "\n",
              "\n",
              "<div id=\"df-0f2123cb-1fd4-48f3-b6f4-1860b2f4152d\">\n",
              "  <button class=\"colab-df-quickchart\" onclick=\"quickchart('df-0f2123cb-1fd4-48f3-b6f4-1860b2f4152d')\"\n",
              "            title=\"Suggest charts\"\n",
              "            style=\"display:none;\">\n",
              "\n",
              "<svg xmlns=\"http://www.w3.org/2000/svg\" height=\"24px\"viewBox=\"0 0 24 24\"\n",
              "     width=\"24px\">\n",
              "    <g>\n",
              "        <path d=\"M19 3H5c-1.1 0-2 .9-2 2v14c0 1.1.9 2 2 2h14c1.1 0 2-.9 2-2V5c0-1.1-.9-2-2-2zM9 17H7v-7h2v7zm4 0h-2V7h2v10zm4 0h-2v-4h2v4z\"/>\n",
              "    </g>\n",
              "</svg>\n",
              "  </button>\n",
              "\n",
              "<style>\n",
              "  .colab-df-quickchart {\n",
              "      --bg-color: #E8F0FE;\n",
              "      --fill-color: #1967D2;\n",
              "      --hover-bg-color: #E2EBFA;\n",
              "      --hover-fill-color: #174EA6;\n",
              "      --disabled-fill-color: #AAA;\n",
              "      --disabled-bg-color: #DDD;\n",
              "  }\n",
              "\n",
              "  [theme=dark] .colab-df-quickchart {\n",
              "      --bg-color: #3B4455;\n",
              "      --fill-color: #D2E3FC;\n",
              "      --hover-bg-color: #434B5C;\n",
              "      --hover-fill-color: #FFFFFF;\n",
              "      --disabled-bg-color: #3B4455;\n",
              "      --disabled-fill-color: #666;\n",
              "  }\n",
              "\n",
              "  .colab-df-quickchart {\n",
              "    background-color: var(--bg-color);\n",
              "    border: none;\n",
              "    border-radius: 50%;\n",
              "    cursor: pointer;\n",
              "    display: none;\n",
              "    fill: var(--fill-color);\n",
              "    height: 32px;\n",
              "    padding: 0;\n",
              "    width: 32px;\n",
              "  }\n",
              "\n",
              "  .colab-df-quickchart:hover {\n",
              "    background-color: var(--hover-bg-color);\n",
              "    box-shadow: 0 1px 2px rgba(60, 64, 67, 0.3), 0 1px 3px 1px rgba(60, 64, 67, 0.15);\n",
              "    fill: var(--button-hover-fill-color);\n",
              "  }\n",
              "\n",
              "  .colab-df-quickchart-complete:disabled,\n",
              "  .colab-df-quickchart-complete:disabled:hover {\n",
              "    background-color: var(--disabled-bg-color);\n",
              "    fill: var(--disabled-fill-color);\n",
              "    box-shadow: none;\n",
              "  }\n",
              "\n",
              "  .colab-df-spinner {\n",
              "    border: 2px solid var(--fill-color);\n",
              "    border-color: transparent;\n",
              "    border-bottom-color: var(--fill-color);\n",
              "    animation:\n",
              "      spin 1s steps(1) infinite;\n",
              "  }\n",
              "\n",
              "  @keyframes spin {\n",
              "    0% {\n",
              "      border-color: transparent;\n",
              "      border-bottom-color: var(--fill-color);\n",
              "      border-left-color: var(--fill-color);\n",
              "    }\n",
              "    20% {\n",
              "      border-color: transparent;\n",
              "      border-left-color: var(--fill-color);\n",
              "      border-top-color: var(--fill-color);\n",
              "    }\n",
              "    30% {\n",
              "      border-color: transparent;\n",
              "      border-left-color: var(--fill-color);\n",
              "      border-top-color: var(--fill-color);\n",
              "      border-right-color: var(--fill-color);\n",
              "    }\n",
              "    40% {\n",
              "      border-color: transparent;\n",
              "      border-right-color: var(--fill-color);\n",
              "      border-top-color: var(--fill-color);\n",
              "    }\n",
              "    60% {\n",
              "      border-color: transparent;\n",
              "      border-right-color: var(--fill-color);\n",
              "    }\n",
              "    80% {\n",
              "      border-color: transparent;\n",
              "      border-right-color: var(--fill-color);\n",
              "      border-bottom-color: var(--fill-color);\n",
              "    }\n",
              "    90% {\n",
              "      border-color: transparent;\n",
              "      border-bottom-color: var(--fill-color);\n",
              "    }\n",
              "  }\n",
              "</style>\n",
              "\n",
              "  <script>\n",
              "    async function quickchart(key) {\n",
              "      const quickchartButtonEl =\n",
              "        document.querySelector('#' + key + ' button');\n",
              "      quickchartButtonEl.disabled = true;  // To prevent multiple clicks.\n",
              "      quickchartButtonEl.classList.add('colab-df-spinner');\n",
              "      try {\n",
              "        const charts = await google.colab.kernel.invokeFunction(\n",
              "            'suggestCharts', [key], {});\n",
              "      } catch (error) {\n",
              "        console.error('Error during call to suggestCharts:', error);\n",
              "      }\n",
              "      quickchartButtonEl.classList.remove('colab-df-spinner');\n",
              "      quickchartButtonEl.classList.add('colab-df-quickchart-complete');\n",
              "    }\n",
              "    (() => {\n",
              "      let quickchartButtonEl =\n",
              "        document.querySelector('#df-0f2123cb-1fd4-48f3-b6f4-1860b2f4152d button');\n",
              "      quickchartButtonEl.style.display =\n",
              "        google.colab.kernel.accessAllowed ? 'block' : 'none';\n",
              "    })();\n",
              "  </script>\n",
              "</div>\n",
              "\n",
              "    </div>\n",
              "  </div>\n"
            ],
            "application/vnd.google.colaboratory.intrinsic+json": {
              "type": "dataframe",
              "summary": "{\n  \"name\": \"train[['Description', 'cleaned_text']]\",\n  \"rows\": 5,\n  \"fields\": [\n    {\n      \"column\": \"Description\",\n      \"properties\": {\n        \"dtype\": \"string\",\n        \"num_unique_values\": 5,\n        \"samples\": [\n          \"I have noticed persistent painful blisters, peeling skin, and burning sensation for the past few weeks. It has been affecting my daily routine, making it difficult to sleep peacefully. Sometimes, I also experience dizziness. The symptoms seem to fluctuate, but overall, they have been getting worse. Seeking medical attention seems necessary at this point.\",\n          \"Lately, I have been experiencing symptoms such as painful blisters, peeling skin, and burning sensation. It started mildly, but over time, it has worsened. I often feel concerned and struggle with get proper rest. The discomfort makes it hard to walk for long periods. I am concerned about these symptoms and hope to find relief soon.\",\n          \"I have noticed persistent itchy patches, redness, and scaling skin for the past few weeks. It has been affecting my daily routine, making it difficult to exercise without discomfort. Sometimes, I also experience loss of appetite. The symptoms seem to fluctuate, but overall, they have been getting worse. Seeking medical attention seems necessary at this point.\"\n        ],\n        \"semantic_type\": \"\",\n        \"description\": \"\"\n      }\n    },\n    {\n      \"column\": \"cleaned_text\",\n      \"properties\": {\n        \"dtype\": \"string\",\n        \"num_unique_values\": 5,\n        \"samples\": [\n          \"i have noticed persistent painful blisters peeling skin and burning sensation for the past few weeks it has been affecting my daily routine making it difficult to sleep peacefully sometimes i also experience dizziness the symptoms seem to fluctuate but overall they have been getting worse seeking medical attention seems necessary at this point\",\n          \"lately i have been experiencing symptoms such as painful blisters peeling skin and burning sensation it started mildly but over time it has worsened i often feel concerned and struggle with get proper rest the discomfort makes it hard to walk for long periods i am concerned about these symptoms and hope to find relief soon\",\n          \"i have noticed persistent itchy patches redness and scaling skin for the past few weeks it has been affecting my daily routine making it difficult to exercise without discomfort sometimes i also experience loss of appetite the symptoms seem to fluctuate but overall they have been getting worse seeking medical attention seems necessary at this point\"\n        ],\n        \"semantic_type\": \"\",\n        \"description\": \"\"\n      }\n    }\n  ]\n}"
            }
          },
          "metadata": {},
          "execution_count": 5
        }
      ],
      "source": [
        "nltk.download('stopwords')\n",
        "stop_words = set(stopwords.words('english'))\n",
        "\n",
        "def clean_text(text):\n",
        "    text = re.sub(r'[^a-zA-Z\\s]', '', text, re.I | re.A)\n",
        "    text = text.lower()\n",
        "    return text\n",
        "\n",
        "train['cleaned_text'] = train['Description'].apply(clean_text)\n",
        "train[['Description', 'cleaned_text']].head()"
      ]
    },
    {
      "cell_type": "markdown",
      "metadata": {
        "id": "9vO7Qtumn6w5"
      },
      "source": [
        "# **Section 4: Generate NLP-Based Features**"
      ]
    },
    {
      "cell_type": "code",
      "execution_count": null,
      "metadata": {
        "colab": {
          "base_uri": "https://localhost:8080/"
        },
        "id": "ZJ6NlF64oAdT",
        "outputId": "fa02300c-1507-452a-be7e-778da07ba2af"
      },
      "outputs": [
        {
          "output_type": "stream",
          "name": "stdout",
          "text": [
            "Training Data with NLP Features:\n",
            "   char_count  word_count  avg_word_length  stopword_count\n",
            "0         310          53         4.867925              23\n",
            "1         345          54         5.407407              21\n",
            "2         350          56         5.267857              22\n",
            "3         339          55         5.181818              22\n",
            "4         324          56         4.803571              24\n"
          ]
        }
      ],
      "source": [
        "def generate_nlp_features(data):\n",
        "    data['char_count'] = data['cleaned_text'].apply(len)\n",
        "    data['word_count'] = data['cleaned_text'].apply(lambda x: len(x.split()))\n",
        "    data['avg_word_length'] = data['cleaned_text'].apply(lambda x: np.mean([len(word) for word in x.split()]) if x.split() else 0)\n",
        "    data['stopword_count'] = data['cleaned_text'].apply(lambda x: len([word for word in x.split() if word in stop_words]))\n",
        "    return data\n",
        "\n",
        "train = generate_nlp_features(train)\n",
        "print(\"Training Data with NLP Features:\")\n",
        "print(train[['char_count', 'word_count', 'avg_word_length', 'stopword_count']].head())"
      ]
    },
    {
      "cell_type": "markdown",
      "metadata": {
        "id": "wXAurjdUoJk2"
      },
      "source": [
        "# **Section 5: Generate Bag of Words, TFIDF, and FastText Features**"
      ]
    },
    {
      "cell_type": "code",
      "source": [
        "#!wget https://dl.fbaipublicfiles.com/fasttext/vectors-crawl/cc.en.300.bin.gz\n",
        "#!gunzip cc.en.300.bin.gz"
      ],
      "metadata": {
        "colab": {
          "base_uri": "https://localhost:8080/"
        },
        "id": "f6x0QdClrUNL",
        "outputId": "f421b23b-a6ec-487e-c48e-8b5ba4ba8ddb",
        "collapsed": true
      },
      "execution_count": null,
      "outputs": [
        {
          "output_type": "stream",
          "name": "stdout",
          "text": [
            "--2025-03-16 03:35:11--  https://dl.fbaipublicfiles.com/fasttext/vectors-crawl/cc.en.300.bin.gz\n",
            "Resolving dl.fbaipublicfiles.com (dl.fbaipublicfiles.com)... 18.238.217.17, 18.238.217.77, 18.238.217.58, ...\n",
            "Connecting to dl.fbaipublicfiles.com (dl.fbaipublicfiles.com)|18.238.217.17|:443... connected.\n",
            "HTTP request sent, awaiting response... 200 OK\n",
            "Length: 4503593528 (4.2G) [application/octet-stream]\n",
            "Saving to: ‘cc.en.300.bin.gz’\n",
            "\n",
            "cc.en.300.bin.gz    100%[===================>]   4.19G  84.3MB/s    in 40s     \n",
            "\n",
            "2025-03-16 03:35:52 (106 MB/s) - ‘cc.en.300.bin.gz’ saved [4503593528/4503593528]\n",
            "\n"
          ]
        }
      ]
    },
    {
      "cell_type": "code",
      "source": [
        "fasttext.util.download_model('en', if_exists='ignore')\n",
        "ft_model = fasttext.load_model('cc.en.300.bin')\n",
        "\n",
        "def get_fasttext_embeddings(text):\n",
        "    words = text.split()\n",
        "    if words:\n",
        "        return np.mean([ft_model.get_word_vector(word) for word in words], axis=0)\n",
        "    else:\n",
        "        return np.zeros(300)\n",
        "\n",
        "tfidf_vectorizer = TfidfVectorizer(max_features=5000)\n",
        "X_tfidf = tfidf_vectorizer.fit_transform(train['cleaned_text']).toarray()\n",
        "\n",
        "bow_vectorizer = CountVectorizer(max_features=5000)\n",
        "X_bow = bow_vectorizer.fit_transform(train['cleaned_text'])\n",
        "\n",
        "train['fasttext_embeddings'] = train['cleaned_text'].apply(get_fasttext_embeddings)\n",
        "X_fasttext = np.vstack(train['fasttext_embeddings'])\n",
        "\n",
        "print(f\"Bag of Words: {X_bow.shape}\")\n",
        "print(f\"\\nTF-IDF Shapes:,{X_tfidf.shape}\")\n",
        "print(f\"\\nFastText Shapes: {X_fasttext.shape}\")\n"
      ],
      "metadata": {
        "colab": {
          "base_uri": "https://localhost:8080/"
        },
        "id": "Z103nyX1oJXS",
        "outputId": "c291d933-43b4-4f9f-9ef6-fe028232af9c"
      },
      "execution_count": null,
      "outputs": [
        {
          "output_type": "stream",
          "name": "stdout",
          "text": [
            "Training: (1200, 231)\n",
            "\n",
            "TF-IDF Shapes:\n",
            "Training: (1200, 231)\n",
            "\n",
            "FastText Shapes:\n",
            "Training: (1200, 300)\n"
          ]
        }
      ]
    },
    {
      "cell_type": "markdown",
      "metadata": {
        "id": "dNZEhNTPonMn"
      },
      "source": [
        "# **Section 6: Train All Supervised Models on NLP-Based Features**"
      ]
    },
    {
      "cell_type": "code",
      "execution_count": null,
      "metadata": {
        "colab": {
          "base_uri": "https://localhost:8080/"
        },
        "id": "eJK0f8Q7o8Ew",
        "outputId": "aae3bc99-6019-47bc-8309-fe08db9f03be"
      },
      "outputs": [
        {
          "output_type": "stream",
          "name": "stdout",
          "text": [
            "Accuracy: 0.1\n",
            "              precision    recall  f1-score   support\n",
            "\n",
            "           0       0.21      0.38      0.27         8\n",
            "           1       0.00      0.00      0.00         8\n",
            "           2       0.00      0.00      0.00         8\n",
            "           3       0.00      0.00      0.00         8\n",
            "           4       0.05      0.12      0.07         8\n",
            "           5       0.00      0.00      0.00         8\n",
            "           6       0.00      0.00      0.00         8\n",
            "           7       0.00      0.00      0.00         8\n",
            "           8       0.10      0.38      0.16         8\n",
            "           9       0.00      0.00      0.00         8\n",
            "          10       0.12      0.25      0.16         8\n",
            "          11       0.00      0.00      0.00         8\n",
            "          12       0.00      0.00      0.00         8\n",
            "          13       0.13      0.25      0.17         8\n",
            "          14       0.06      0.12      0.08         8\n",
            "          15       0.00      0.00      0.00         8\n",
            "          16       0.00      0.00      0.00         8\n",
            "          17       0.00      0.00      0.00         8\n",
            "          18       0.00      0.00      0.00         8\n",
            "          19       0.00      0.00      0.00         8\n",
            "          20       0.00      0.00      0.00         8\n",
            "          21       0.00      0.00      0.00         8\n",
            "          22       0.05      0.12      0.07         8\n",
            "          23       0.00      0.00      0.00         8\n",
            "          24       0.00      0.00      0.00         8\n",
            "          25       0.24      0.75      0.36         8\n",
            "          26       0.00      0.00      0.00         8\n",
            "          27       0.08      0.25      0.12         8\n",
            "          28       0.00      0.00      0.00         8\n",
            "          29       0.38      0.38      0.38         8\n",
            "\n",
            "    accuracy                           0.10       240\n",
            "   macro avg       0.05      0.10      0.06       240\n",
            "weighted avg       0.05      0.10      0.06       240\n",
            "\n"
          ]
        },
        {
          "output_type": "stream",
          "name": "stderr",
          "text": [
            "/usr/local/lib/python3.11/dist-packages/sklearn/metrics/_classification.py:1565: UndefinedMetricWarning: Precision is ill-defined and being set to 0.0 in labels with no predicted samples. Use `zero_division` parameter to control this behavior.\n",
            "  _warn_prf(average, modifier, f\"{metric.capitalize()} is\", len(result))\n",
            "/usr/local/lib/python3.11/dist-packages/sklearn/metrics/_classification.py:1565: UndefinedMetricWarning: Precision is ill-defined and being set to 0.0 in labels with no predicted samples. Use `zero_division` parameter to control this behavior.\n",
            "  _warn_prf(average, modifier, f\"{metric.capitalize()} is\", len(result))\n",
            "/usr/local/lib/python3.11/dist-packages/sklearn/metrics/_classification.py:1565: UndefinedMetricWarning: Precision is ill-defined and being set to 0.0 in labels with no predicted samples. Use `zero_division` parameter to control this behavior.\n",
            "  _warn_prf(average, modifier, f\"{metric.capitalize()} is\", len(result))\n"
          ]
        }
      ],
      "source": [
        "#logistic regression\n",
        "X_nlp = train[['char_count', 'word_count', 'avg_word_length', 'stopword_count']].values\n",
        "label_encoder = LabelEncoder()\n",
        "Y = LabelEncoder().fit_transform(train['Disease'])\n",
        "X_train, X_test, y_train, y_test = train_test_split(X_nlp, Y, test_size=0.2, random_state=42, stratify=Y)\n",
        "model1 = LogisticRegression(solver='liblinear',max_iter=1000)\n",
        "model1.fit(X_train, y_train)\n",
        "y_pred1 = model1.predict(X_test)\n",
        "accuracy = accuracy_score(y_test, y_pred1)\n",
        "print(f'Accuracy: {accuracy}')\n",
        "print(classification_report(y_test, y_pred1))"
      ]
    },
    {
      "cell_type": "code",
      "source": [
        "#SVM\n",
        "model2 = SVC(kernel ='linear')\n",
        "model2.fit(X_train, y_train)\n",
        "y_pred2 = model2.predict(X_test)\n",
        "accuracy = accuracy_score(y_test, y_pred2)\n",
        "print(f'Accuracy: {accuracy}')\n",
        "print(classification_report(y_test, y_pred2))"
      ],
      "metadata": {
        "colab": {
          "base_uri": "https://localhost:8080/"
        },
        "id": "yN6x0ucbfpAn",
        "outputId": "e4f6c630-88ff-449b-acf8-b8dd7cd14943"
      },
      "execution_count": null,
      "outputs": [
        {
          "output_type": "stream",
          "name": "stdout",
          "text": [
            "Accuracy: 0.1\n",
            "              precision    recall  f1-score   support\n",
            "\n",
            "           0       0.11      0.25      0.15         8\n",
            "           1       0.15      0.25      0.19         8\n",
            "           2       0.23      0.38      0.29         8\n",
            "           3       0.00      0.00      0.00         8\n",
            "           4       0.00      0.00      0.00         8\n",
            "           5       0.00      0.00      0.00         8\n",
            "           6       0.00      0.00      0.00         8\n",
            "           7       0.00      0.00      0.00         8\n",
            "           8       0.12      0.12      0.12         8\n",
            "           9       0.00      0.00      0.00         8\n",
            "          10       0.17      0.12      0.14         8\n",
            "          11       0.00      0.00      0.00         8\n",
            "          12       0.00      0.00      0.00         8\n",
            "          13       0.25      0.25      0.25         8\n",
            "          14       0.06      0.12      0.08         8\n",
            "          15       0.06      0.12      0.08         8\n",
            "          16       0.00      0.00      0.00         8\n",
            "          17       0.00      0.00      0.00         8\n",
            "          18       0.00      0.00      0.00         8\n",
            "          19       0.00      0.00      0.00         8\n",
            "          20       0.00      0.00      0.00         8\n",
            "          21       0.00      0.00      0.00         8\n",
            "          22       0.12      0.12      0.12         8\n",
            "          23       0.00      0.00      0.00         8\n",
            "          24       0.00      0.00      0.00         8\n",
            "          25       0.29      0.62      0.40         8\n",
            "          26       0.00      0.00      0.00         8\n",
            "          27       0.04      0.12      0.06         8\n",
            "          28       0.00      0.00      0.00         8\n",
            "          29       0.67      0.50      0.57         8\n",
            "\n",
            "    accuracy                           0.10       240\n",
            "   macro avg       0.08      0.10      0.08       240\n",
            "weighted avg       0.08      0.10      0.08       240\n",
            "\n"
          ]
        },
        {
          "output_type": "stream",
          "name": "stderr",
          "text": [
            "/usr/local/lib/python3.11/dist-packages/sklearn/metrics/_classification.py:1565: UndefinedMetricWarning: Precision is ill-defined and being set to 0.0 in labels with no predicted samples. Use `zero_division` parameter to control this behavior.\n",
            "  _warn_prf(average, modifier, f\"{metric.capitalize()} is\", len(result))\n",
            "/usr/local/lib/python3.11/dist-packages/sklearn/metrics/_classification.py:1565: UndefinedMetricWarning: Precision is ill-defined and being set to 0.0 in labels with no predicted samples. Use `zero_division` parameter to control this behavior.\n",
            "  _warn_prf(average, modifier, f\"{metric.capitalize()} is\", len(result))\n",
            "/usr/local/lib/python3.11/dist-packages/sklearn/metrics/_classification.py:1565: UndefinedMetricWarning: Precision is ill-defined and being set to 0.0 in labels with no predicted samples. Use `zero_division` parameter to control this behavior.\n",
            "  _warn_prf(average, modifier, f\"{metric.capitalize()} is\", len(result))\n"
          ]
        }
      ]
    },
    {
      "cell_type": "code",
      "source": [
        "#random forest\n",
        "model3 = RandomForestClassifier(n_estimators=100, random_state=42)\n",
        "model3.fit(X_train, y_train)\n",
        "y_pred3 = model3.predict(X_test)\n",
        "accuracy3 = accuracy_score(y_test, y_pred3)\n",
        "print(f'Accuracy: {accuracy3}')\n",
        "print(classification_report(y_test, y_pred3))"
      ],
      "metadata": {
        "colab": {
          "base_uri": "https://localhost:8080/"
        },
        "id": "iJGmQVthhJEt",
        "outputId": "d71011d9-951d-49a9-ec9e-73d819395a3e"
      },
      "execution_count": null,
      "outputs": [
        {
          "output_type": "stream",
          "name": "stdout",
          "text": [
            "Accuracy: 0.24583333333333332\n",
            "              precision    recall  f1-score   support\n",
            "\n",
            "           0       0.43      0.38      0.40         8\n",
            "           1       0.33      0.25      0.29         8\n",
            "           2       0.09      0.12      0.11         8\n",
            "           3       0.08      0.12      0.10         8\n",
            "           4       0.43      0.38      0.40         8\n",
            "           5       0.50      0.38      0.43         8\n",
            "           6       0.12      0.12      0.12         8\n",
            "           7       0.33      0.12      0.18         8\n",
            "           8       0.43      0.38      0.40         8\n",
            "           9       0.29      0.25      0.27         8\n",
            "          10       0.09      0.25      0.13         8\n",
            "          11       0.27      0.38      0.32         8\n",
            "          12       0.29      0.25      0.27         8\n",
            "          13       0.25      0.25      0.25         8\n",
            "          14       0.20      0.25      0.22         8\n",
            "          15       0.14      0.12      0.13         8\n",
            "          16       0.00      0.00      0.00         8\n",
            "          17       0.25      0.25      0.25         8\n",
            "          18       0.40      0.25      0.31         8\n",
            "          19       1.00      0.12      0.22         8\n",
            "          20       0.11      0.12      0.12         8\n",
            "          21       0.12      0.12      0.12         8\n",
            "          22       0.30      0.38      0.33         8\n",
            "          23       0.25      0.25      0.25         8\n",
            "          24       0.00      0.00      0.00         8\n",
            "          25       1.00      0.38      0.55         8\n",
            "          26       0.40      0.50      0.44         8\n",
            "          27       0.43      0.38      0.40         8\n",
            "          28       0.00      0.00      0.00         8\n",
            "          29       0.56      0.62      0.59         8\n",
            "\n",
            "    accuracy                           0.25       240\n",
            "   macro avg       0.30      0.25      0.25       240\n",
            "weighted avg       0.30      0.25      0.25       240\n",
            "\n"
          ]
        }
      ]
    },
    {
      "cell_type": "code",
      "source": [
        "model4 = KNeighborsClassifier(n_neighbors=4)\n",
        "model4.fit(X_train, y_train)\n",
        "y_pred4 = model4.predict(X_test)\n",
        "accuracy4 = accuracy_score(y_test, y_pred4)\n",
        "print(f'Accuracy: {accuracy4}')\n",
        "print(classification_report(y_test, y_pred4))"
      ],
      "metadata": {
        "colab": {
          "base_uri": "https://localhost:8080/"
        },
        "id": "_-6O3bxRhq8q",
        "outputId": "91f244b5-98d1-4bb2-ba0d-785bda5f6bbc"
      },
      "execution_count": null,
      "outputs": [
        {
          "output_type": "stream",
          "name": "stdout",
          "text": [
            "Accuracy: 0.18333333333333332\n",
            "              precision    recall  f1-score   support\n",
            "\n",
            "           0       0.07      0.14      0.09         7\n",
            "           1       0.10      0.40      0.16         5\n",
            "           2       0.12      0.20      0.15        10\n",
            "           3       0.08      0.14      0.11         7\n",
            "           4       0.08      0.09      0.09        11\n",
            "           5       0.19      0.33      0.24         9\n",
            "           6       0.08      0.12      0.10         8\n",
            "           7       0.23      0.33      0.27         9\n",
            "           8       0.00      0.00      0.00         8\n",
            "           9       0.40      0.18      0.25        11\n",
            "          10       0.22      0.22      0.22         9\n",
            "          11       0.25      0.33      0.29         3\n",
            "          12       0.22      0.22      0.22         9\n",
            "          13       0.50      0.33      0.40         9\n",
            "          14       0.10      0.20      0.13         5\n",
            "          15       0.29      0.29      0.29         7\n",
            "          16       0.17      0.14      0.15         7\n",
            "          17       0.50      0.12      0.20         8\n",
            "          18       0.00      0.00      0.00         8\n",
            "          19       0.33      0.18      0.24        11\n",
            "          20       0.00      0.00      0.00         8\n",
            "          21       0.33      0.17      0.22         6\n",
            "          22       0.10      0.25      0.14         4\n",
            "          23       0.17      0.17      0.17         6\n",
            "          24       0.00      0.00      0.00        10\n",
            "          25       0.50      0.20      0.29        10\n",
            "          26       1.00      0.22      0.36         9\n",
            "          27       0.43      0.27      0.33        11\n",
            "          28       0.00      0.00      0.00         7\n",
            "          29       1.00      0.38      0.55         8\n",
            "\n",
            "    accuracy                           0.18       240\n",
            "   macro avg       0.25      0.19      0.19       240\n",
            "weighted avg       0.26      0.18      0.19       240\n",
            "\n"
          ]
        }
      ]
    },
    {
      "cell_type": "markdown",
      "source": [
        "# **SECTION 7-9: Train Models on BoW, TFIDF, and FastText Features**"
      ],
      "metadata": {
        "id": "FhRjWa2Jh4PF"
      }
    },
    {
      "cell_type": "code",
      "source": [
        "#logictic regression\n",
        "X_train, X_test, y_train, y_test = train_test_split(X_bow , Y, test_size=0.2, random_state=42)\n",
        "model1.fit(X_train, y_train)\n",
        "y_pred1 = model1.predict(X_test)\n",
        "\n",
        "print(f'BoW Accuracy: {accuracy_score(y_test, y_pred1)}')\n",
        "X_train, X_test, y_train, y_test = train_test_split(X_tfidf, Y, test_size=0.2, random_state=42)\n",
        "model1.fit(X_train, y_train)\n",
        "y_pred1 = model1.predict(X_test)\n",
        "print(f'TFIDF Accuracy: {accuracy_score(y_test, y_pred1)}')\n",
        "\n",
        "X_train, X_test, y_train, y_test = train_test_split(X_fasttext, Y, test_size=0.2, random_state=42)\n",
        "model1.fit(X_train, y_train)\n",
        "y_pred1 = model1.predict(X_test)\n",
        "print(f'FastText Accuracy: {accuracy_score(y_test, y_pred1)}')"
      ],
      "metadata": {
        "colab": {
          "base_uri": "https://localhost:8080/"
        },
        "id": "bAZbezjYvNCn",
        "outputId": "ff8dfc07-5f67-49ad-b451-ddab192ae8ff"
      },
      "execution_count": null,
      "outputs": [
        {
          "output_type": "stream",
          "name": "stdout",
          "text": [
            "BoW Accuracy: 1.0\n",
            "TFIDF Accuracy: 0.975\n",
            "FastText Accuracy: 0.075\n"
          ]
        }
      ]
    },
    {
      "cell_type": "code",
      "source": [
        "#SVM\n",
        "X_train, X_test, y_train, y_test = train_test_split(X_bow , Y, test_size=0.2, random_state=42)\n",
        "model2.fit(X_train, y_train)\n",
        "y_pred2 = model2.predict(X_test)\n",
        "print(f'BoW Accuracy: {accuracy_score(y_test, y_pred2)}')\n",
        "\n",
        "X_train, X_test, y_train, y_test = train_test_split(X_tfidf, Y, test_size=0.2, random_state=42)\n",
        "model2.fit(X_train, y_train)\n",
        "y_pred2 = model2.predict(X_test)\n",
        "print(f'TFIDF Accuracy: {accuracy_score(y_test, y_pred2)}')\n",
        "\n",
        "X_train, X_test, y_train, y_test = train_test_split(X_fasttext, Y, test_size=0.2, random_state=42)\n",
        "model2.fit(X_train, y_train)\n",
        "y_pred2 = model2.predict(X_test)\n",
        "print(f'FastText Accuracy: {accuracy_score(y_test, y_pred2)}')"
      ],
      "metadata": {
        "colab": {
          "base_uri": "https://localhost:8080/"
        },
        "id": "jgO-4L6hjV91",
        "outputId": "8eec2b43-136c-40cf-b4cc-d94e4b7f90aa"
      },
      "execution_count": null,
      "outputs": [
        {
          "output_type": "stream",
          "name": "stdout",
          "text": [
            "BoW Accuracy: 1.0\n",
            "TFIDF Accuracy: 1.0\n",
            "FastText Accuracy: 0.0125\n"
          ]
        }
      ]
    },
    {
      "cell_type": "code",
      "source": [
        "#random forest\n",
        "X_train, X_test, y_train, y_test = train_test_split(X_bow , Y, test_size=0.2, random_state=42)\n",
        "model3.fit(X_train, y_train)\n",
        "y_pred3 = model3.predict(X_test)\n",
        "print(f'BoW Accuracy: {accuracy_score(y_test, y_pred3)}')\n",
        "\n",
        "X_train, X_test, y_train, y_test = train_test_split(X_tfidf, Y, test_size=0.2, random_state=42)\n",
        "model3.fit(X_train, y_train)\n",
        "y_pred3 = model3.predict(X_test)\n",
        "print(f'TFIDF Accuracy: {accuracy_score(y_test, y_pred3)}')\n",
        "\n",
        "X_train, X_test, y_train, y_test = train_test_split(X_fasttext, Y, test_size=0.2, random_state=42)\n",
        "model3.fit(X_train, y_train)\n",
        "y_pred3 = model3.predict(X_test)\n",
        "print(f'FastText Accuracy: {accuracy_score(y_test, y_pred3)}')"
      ],
      "metadata": {
        "colab": {
          "base_uri": "https://localhost:8080/"
        },
        "id": "uosmdOPjjaOu",
        "outputId": "99290018-3efa-40d8-9b8f-556c0bcb4449"
      },
      "execution_count": null,
      "outputs": [
        {
          "output_type": "stream",
          "name": "stdout",
          "text": [
            "BoW Accuracy: 1.0\n",
            "TFIDF Accuracy: 1.0\n",
            "FastText Accuracy: 0.9375\n"
          ]
        }
      ]
    },
    {
      "cell_type": "code",
      "source": [
        "#Knn\n",
        "X_train, X_test, y_train, y_test = train_test_split(X_bow , Y, test_size=0.2, random_state=42)\n",
        "model4.fit(X_train, y_train)\n",
        "y_pred4 = model4.predict(X_test)\n",
        "print(f'BoW Accuracy: {accuracy_score(y_test, y_pred4)}')\n",
        "\n",
        "X_train, X_test, y_train, y_test = train_test_split(X_tfidf, Y, test_size=0.2, random_state=42)\n",
        "model4.fit(X_train, y_train)\n",
        "y_pred4 = model4.predict(X_test)\n",
        "print(f'TFIDF Accuracy: {accuracy_score(y_test, y_pred4)}')\n",
        "\n",
        "X_train, X_test, y_train, y_test = train_test_split(X_fasttext, Y, test_size=0.2, random_state=42)\n",
        "model4.fit(X_train, y_train)\n",
        "y_pred4 = model4.predict(X_test)\n",
        "print(f'FastText Accuracy: {accuracy_score(y_test, y_pred4)}')"
      ],
      "metadata": {
        "colab": {
          "base_uri": "https://localhost:8080/"
        },
        "id": "6rwquGAOj_za",
        "outputId": "fe88acdc-8434-46a3-e725-f8125fb9b518"
      },
      "execution_count": null,
      "outputs": [
        {
          "output_type": "stream",
          "name": "stdout",
          "text": [
            "BoW Accuracy: 0.7166666666666667\n",
            "TFIDF Accuracy: 0.8958333333333334\n",
            "FastText Accuracy: 0.5833333333333334\n"
          ]
        }
      ]
    },
    {
      "cell_type": "markdown",
      "source": [
        "# **Section 10:Train Models on All Combined Features with TFIDF**"
      ],
      "metadata": {
        "id": "NCOcBZBJkvB6"
      }
    },
    {
      "cell_type": "code",
      "source": [
        "#RF\n",
        "X_train_combined = np.hstack([X_nlp, X_tfidf, X_fasttext])\n",
        "X_train, X_test, y_train, y_test = train_test_split(X_train_combined , Y, test_size=0.2, random_state=42)\n",
        "model3 = RandomForestClassifier(n_estimators=100)\n",
        "model3.fit(X_train, y_train)\n",
        "y_pred3 = model3.predict(X_test)\n",
        "accuracy = accuracy_score(y_test, y_pred3)\n",
        "print(f'Combined Features Accuracy (Random Forest): {accuracy}')\n",
        "print(classification_report(y_test, y_pred3))"
      ],
      "metadata": {
        "colab": {
          "base_uri": "https://localhost:8080/"
        },
        "id": "S44EJKh3k0Lt",
        "outputId": "7eb6b560-59c0-4991-ae1e-a744dcf1e7b2"
      },
      "execution_count": null,
      "outputs": [
        {
          "output_type": "stream",
          "name": "stdout",
          "text": [
            "Combined Features Accuracy (Random Forest): 0.9958333333333333\n",
            "              precision    recall  f1-score   support\n",
            "\n",
            "           0       1.00      1.00      1.00         7\n",
            "           1       1.00      1.00      1.00         5\n",
            "           2       1.00      1.00      1.00        10\n",
            "           3       1.00      1.00      1.00         7\n",
            "           4       1.00      1.00      1.00        11\n",
            "           5       1.00      1.00      1.00         9\n",
            "           6       1.00      1.00      1.00         8\n",
            "           7       1.00      1.00      1.00         9\n",
            "           8       1.00      1.00      1.00         8\n",
            "           9       1.00      1.00      1.00        11\n",
            "          10       1.00      1.00      1.00         9\n",
            "          11       1.00      1.00      1.00         3\n",
            "          12       1.00      1.00      1.00         9\n",
            "          13       1.00      1.00      1.00         9\n",
            "          14       1.00      1.00      1.00         5\n",
            "          15       0.88      1.00      0.93         7\n",
            "          16       1.00      0.86      0.92         7\n",
            "          17       1.00      1.00      1.00         8\n",
            "          18       1.00      1.00      1.00         8\n",
            "          19       1.00      1.00      1.00        11\n",
            "          20       1.00      1.00      1.00         8\n",
            "          21       1.00      1.00      1.00         6\n",
            "          22       1.00      1.00      1.00         4\n",
            "          23       1.00      1.00      1.00         6\n",
            "          24       1.00      1.00      1.00        10\n",
            "          25       1.00      1.00      1.00        10\n",
            "          26       1.00      1.00      1.00         9\n",
            "          27       1.00      1.00      1.00        11\n",
            "          28       1.00      1.00      1.00         7\n",
            "          29       1.00      1.00      1.00         8\n",
            "\n",
            "    accuracy                           1.00       240\n",
            "   macro avg       1.00      1.00      1.00       240\n",
            "weighted avg       1.00      1.00      1.00       240\n",
            "\n"
          ]
        }
      ]
    },
    {
      "cell_type": "markdown",
      "source": [
        "# **SECTION 11: Save the Model and Make Predictions on Real-World Input**"
      ],
      "metadata": {
        "id": "pd0VR8-ZnhSj"
      }
    },
    {
      "cell_type": "code",
      "source": [
        "# used RF model\n",
        "joblib.dump(model3, 'disease_classification_model.pkl')\n",
        "joblib.dump(label_encoder, 'label_encoder.pkl')\n",
        "joblib.dump(tfidf_vectorizer, 'tfidf_vectorizer.pkl')\n",
        "def predict_disease(user_input):\n",
        "    user_input_cleaned = clean_text(user_input)\n",
        "\n",
        "    vectorizer = joblib.load('tfidf_vectorizer.pkl')\n",
        "    label_encoder = joblib.load('label_encoder.pkl')\n",
        "    loaded_model = joblib.load('disease_classification_model.pkl')\n",
        "\n",
        "    user_input_tfidf = vectorizer.transform([user_input_cleaned]).toarray()\n",
        "    user_input_fasttext = np.vstack([get_fasttext_embeddings(user_input_cleaned)])\n",
        "    user_input_nlp = np.array([[len(user_input_cleaned), len(user_input_cleaned.split()),\n",
        "                                np.mean([len(word) for word in user_input_cleaned.split()]) if user_input_cleaned.split() else 0,\n",
        "                                len([word for word in user_input_cleaned.split() if word in stop_words])]])\n",
        "\n",
        "    user_input_combined = np.hstack((user_input_nlp, user_input_tfidf, user_input_fasttext))\n",
        "\n",
        "    prediction = loaded_model.predict(user_input_combined)\n",
        "    predicted_disease = label_encoder.inverse_transform(prediction)[0]\n",
        "\n",
        "    return predicted_disease\n",
        "\n",
        "print(\"Welcome to our DDSH clinic!!!\")\n",
        "user_symptoms = input(\"Please enter your condition in 5-6 sentences so we can predict the disease: \")\n",
        "predicted_disease = predict_disease(user_symptoms)\n",
        "print(f'Predicted Disease: {predicted_disease}')"
      ],
      "metadata": {
        "colab": {
          "base_uri": "https://localhost:8080/"
        },
        "id": "pkPtbAGizuXS",
        "outputId": "3ca1ee75-0dad-4b6d-e50b-e4bb7aa1ac26"
      },
      "execution_count": null,
      "outputs": [
        {
          "output_type": "stream",
          "name": "stdout",
          "text": [
            "Welcome to our DDSH clinic!!!\n",
            "Please enter your condition in 5-6 sentences so we can predict the disease: I have noticed persistent loss of appetite, nausea, and itchy skin for the past few weeks. It has been affecting my daily routine, making it difficult to exercise without discomfort. Sometimes, I also experience nausea. The symptoms seem to fluctuate, but overall, they have been getting worse. Seeking medical attention seems necessary at this point.\n",
            "Predicted Disease: Jaundice\n"
          ]
        }
      ]
    },
    {
      "cell_type": "markdown",
      "source": [
        "# **SECTION 12 : Provide Analysis on Results**"
      ],
      "metadata": {
        "id": "pP5Dy_IbCg4j"
      }
    },
    {
      "cell_type": "markdown",
      "source": [
        "In NLP models, there are four types :- Logistic regression, KNN, SVM and Random Forest with features of TFIDF, BOW and FASTTEXT.\n",
        "\n",
        "Logistic regression :-\n",
        "\n",
        "       BoW Accuracy: 1.0,\n",
        "       TFIDF Accuracy: 0.975,\n",
        "       FastText Accuracy: 0.075.\n",
        "\n",
        "SVM :-\n",
        "\n",
        "       BoW Accuracy: 1.0,\n",
        "       TFIDF Accuracy: 1.0,\n",
        "       FastText Accuracy: 0.012,\n",
        "\n",
        "KNN:-\n",
        "\n",
        "      BoW Accuracy: 0.71,\n",
        "      TFIDF Accuracy: 0.89,\n",
        "      FastText Accuracy: 0.58.\n",
        "\n",
        "Random Forest :-\n",
        "\n",
        "      BoW Accuracy: 1.0,\n",
        "      TFIDF Accuracy: 1.0,\n",
        "      FastText Accuracy: 0.9375.\n",
        "\n",
        "\n",
        "\n"
      ],
      "metadata": {
        "id": "x3tJqeDlEUxE"
      }
    },
    {
      "cell_type": "markdown",
      "source": [
        "Which feature set (NLP features, BoW, TFIDF, FastText, combined features) performed the best? Why do you think that is?\n",
        "\n",
        "\n",
        "TF-IDF and BOW performed well. because both effectively capture word frequency and importance, making them well-suited for structured text classification tasks, particularly when the dataset is well-prepared and not heavily reliant on contextual relationships."
      ],
      "metadata": {
        "id": "gzD_wKvel_OB"
      }
    },
    {
      "cell_type": "markdown",
      "source": [
        "Reflect on any challenges or interesting findings during the task.\n",
        "\n",
        "Yes, traing a model with features tfidf, bow, and fasttext was quit interesting and was never done before. while biggest challenge was to build huga dataset. which contains description of each disease in 5 to 6 sectence.\n",
        "\n"
      ],
      "metadata": {
        "id": "yQVZVsu-o7xD"
      }
    },
    {
      "cell_type": "markdown",
      "source": [
        "I think instate of taking input as 5 to 6 sentence, simply 5 to 6 only symptoms would have been resulted in better accuracy."
      ],
      "metadata": {
        "id": "j9jxK9W-icUb"
      }
    }
  ],
  "metadata": {
    "colab": {
      "provenance": [],
      "gpuType": "T4"
    },
    "kernelspec": {
      "display_name": "Python 3",
      "name": "python3"
    },
    "language_info": {
      "name": "python"
    },
    "accelerator": "GPU"
  },
  "nbformat": 4,
  "nbformat_minor": 0
}